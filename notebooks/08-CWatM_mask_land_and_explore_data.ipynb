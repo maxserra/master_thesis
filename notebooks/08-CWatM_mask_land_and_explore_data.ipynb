{
 "cells": [
  {
   "cell_type": "markdown",
   "metadata": {},
   "source": [
    "# Explore CWatM data"
   ]
  },
  {
   "cell_type": "code",
   "execution_count": null,
   "metadata": {},
   "outputs": [],
   "source": [
    "%load_ext autoreload\n",
    "%autoreload 2\n",
    "\n",
    "import sys\n",
    "sys.path.append(\"..\")\n",
    "\n",
    "from pathlib import Path\n",
    "\n",
    "from tqdm.notebook import tqdm\n",
    "import pandas as pd\n",
    "import xarray as xr\n",
    "\n",
    "import plotly.express as px\n",
    "\n",
    "import src.data.cwatm_data as cwatm_data"
   ]
  },
  {
   "cell_type": "code",
   "execution_count": 9,
   "metadata": {},
   "outputs": [],
   "source": [
    "PROCESSED_DATA_FOLDER_PATH = Path(\"../data/processed\")"
   ]
  },
  {
   "cell_type": "markdown",
   "metadata": {},
   "source": [
    "## Load CWatM data"
   ]
  },
  {
   "cell_type": "code",
   "execution_count": 16,
   "metadata": {},
   "outputs": [],
   "source": [
    "all_df = xr.open_dataset(PROCESSED_DATA_FOLDER_PATH.joinpath(\"CWatM_data\", \"all.nc\")).to_dataframe()\n",
    "forcings_df = xr.open_dataset(PROCESSED_DATA_FOLDER_PATH.joinpath(\"CWatM_data\", \"forcings.nc\")).to_dataframe()\n",
    "outputs_df = xr.open_dataset(PROCESSED_DATA_FOLDER_PATH.joinpath(\"CWatM_data\", \"outputs.nc\")).to_dataframe()"
   ]
  },
  {
   "cell_type": "code",
   "execution_count": null,
   "metadata": {},
   "outputs": [],
   "source": [
    "all_df"
   ]
  },
  {
   "cell_type": "code",
   "execution_count": null,
   "metadata": {},
   "outputs": [],
   "source": [
    "forcings_df"
   ]
  },
  {
   "cell_type": "code",
   "execution_count": null,
   "metadata": {},
   "outputs": [],
   "source": [
    "outputs_df"
   ]
  },
  {
   "cell_type": "markdown",
   "metadata": {},
   "source": [
    "### Process the data"
   ]
  },
  {
   "cell_type": "code",
   "execution_count": null,
   "metadata": {},
   "outputs": [],
   "source": [
    "all_land_df = cwatm_data.process_inputs_df(all_df)\n",
    "all_land_df"
   ]
  },
  {
   "cell_type": "code",
   "execution_count": null,
   "metadata": {},
   "outputs": [],
   "source": [
    "forcings_land_df = forcings_df.loc[all_land_df.index]\n",
    "forcings_land_df"
   ]
  },
  {
   "cell_type": "code",
   "execution_count": null,
   "metadata": {},
   "outputs": [],
   "source": [
    "outputs_land_df = outputs_df.loc[all_land_df.index]\n",
    "outputs_land_df"
   ]
  },
  {
   "cell_type": "code",
   "execution_count": 29,
   "metadata": {},
   "outputs": [],
   "source": [
    "all_land_df.to_parquet(PROCESSED_DATA_FOLDER_PATH.joinpath(\"CWatM_data\", \"all_land.parquet\"))\n",
    "forcings_land_df.to_parquet(PROCESSED_DATA_FOLDER_PATH.joinpath(\"CWatM_data\", \"forcings_land.parquet\"))\n",
    "outputs_land_df.to_parquet(PROCESSED_DATA_FOLDER_PATH.joinpath(\"CWatM_data\", \"outputs_land.parquet\"))"
   ]
  },
  {
   "cell_type": "markdown",
   "metadata": {},
   "source": [
    "## Load CWatM `_land` data"
   ]
  },
  {
   "cell_type": "code",
   "execution_count": 10,
   "metadata": {},
   "outputs": [],
   "source": [
    "all_land_df = pd.read_parquet(PROCESSED_DATA_FOLDER_PATH.joinpath(\"CWatM_data\", \"all_land.parquet\"))\n",
    "forcings_land_df = pd.read_parquet(PROCESSED_DATA_FOLDER_PATH.joinpath(\"CWatM_data\", \"forcings_land.parquet\"))\n",
    "outputs_land_df = pd.read_parquet(PROCESSED_DATA_FOLDER_PATH.joinpath(\"CWatM_data\", \"outputs_land.parquet\"))"
   ]
  },
  {
   "cell_type": "code",
   "execution_count": null,
   "metadata": {},
   "outputs": [],
   "source": [
    "all_land_df.describe()"
   ]
  },
  {
   "cell_type": "code",
   "execution_count": null,
   "metadata": {},
   "outputs": [],
   "source": [
    "forcings_land_df.describe()"
   ]
  },
  {
   "cell_type": "code",
   "execution_count": null,
   "metadata": {},
   "outputs": [],
   "source": [
    "outputs_land_df.describe()"
   ]
  },
  {
   "cell_type": "markdown",
   "metadata": {},
   "source": [
    "## Visualize data"
   ]
  },
  {
   "cell_type": "code",
   "execution_count": 11,
   "metadata": {},
   "outputs": [],
   "source": [
    "data_df = pd.concat((all_land_df, forcings_land_df, outputs_land_df), axis=1)"
   ]
  },
  {
   "cell_type": "code",
   "execution_count": null,
   "metadata": {},
   "outputs": [],
   "source": [
    "INPUTS_COLUMNS = list(all_land_df.columns)\n",
    "#     \"porosity\",\n",
    "#     \"firstStorDepth\",\n",
    "#     \"percolationImp\",\n",
    "#     \"tanslope\",\n",
    "#     \"maxRootDepth_forest\",\n",
    "#     \"maxRootDepth_grassland\"\n",
    "# ]\n",
    "FORCINGS_COLUMNS = [  # list(forcings_land_df.columns)\n",
    "    \"pr\",\n",
    "    \"tas\",\n",
    "    \"tasmax\",\n",
    "    \"tasmin\",\n",
    "    \"ps\",\n",
    "    \"rlds\",\n",
    "    \"rsds\",\n",
    "    \"sfcwind\",\n",
    "    \"hurs\",\n",
    "    \"huss\",\n",
    "]\n",
    "OUTPUTS_COLUMNS = [  # list(outputs_land_df.columns)\n",
    "    \"evap-total\",\n",
    "    \"potevap\",\n",
    "    \"qr\",\n",
    "    \"qtot\"\n",
    "]\n",
    "\n",
    "# data_df = data_df.iloc[:1000]\n",
    "\n",
    "data_df.shape"
   ]
  },
  {
   "cell_type": "code",
   "execution_count": 17,
   "metadata": {},
   "outputs": [],
   "source": [
    "from itertools import product\n",
    "from tqdm import tqdm\n",
    "\n",
    "import matplotlib.pyplot as plt\n",
    "\n",
    "def display_individual_scatterplots(df,\n",
    "                                    dst_path: Path,\n",
    "                                    valid_x,\n",
    "                                    valid_y,\n",
    "                                    ):\n",
    "\n",
    "    combinations = product(valid_x, valid_y)\n",
    "\n",
    "    for input_col, output_col in tqdm(list(combinations), desc=\"Computing input-output combinations\"):\n",
    "\n",
    "        fig, axis = plt.subplots(nrows=1, ncols=1, figsize=(8, 6))\n",
    "\n",
    "        # Assuming the DataFrame has 'x' and 'y' columns for the scatter plot\n",
    "        axis.scatter(df[input_col], df[output_col],\n",
    "                     alpha=0.2)\n",
    "        axis.set_title(f\"Input '{input_col}' - Output '{output_col}'\")\n",
    "        axis.set_xlabel(input_col)\n",
    "        axis.set_ylabel(output_col)\n",
    "\n",
    "        # Adjust layout and display the plots\n",
    "        plt.tight_layout()\n",
    "\n",
    "        fig.savefig(dst_path.joinpath(f\"{input_col}_{output_col}.png\"), dpi=300)\n",
    "\n",
    "        plt.close()\n"
   ]
  },
  {
   "cell_type": "code",
   "execution_count": null,
   "metadata": {},
   "outputs": [],
   "source": [
    "display_individual_scatterplots(df=data_df,\n",
    "                                dst_path=Path(\"../reports/figures/CWatM_data/scatterplots\"),\n",
    "                                valid_x=INPUTS_COLUMNS + FORCINGS_COLUMNS,\n",
    "                                valid_y=OUTPUTS_COLUMNS\n",
    "                                )"
   ]
  },
  {
   "cell_type": "code",
   "execution_count": null,
   "metadata": {},
   "outputs": [],
   "source": []
  },
  {
   "cell_type": "code",
   "execution_count": null,
   "metadata": {},
   "outputs": [],
   "source": [
    "from src.visualization import visualize\n",
    "\n",
    "\n",
    "data_df = data_df.sample(frac=0.2)\n",
    "\n",
    "visualize.plot_scatter_with_dropdown(df=data_df,\n",
    "                                     default_x=\"pr\",\n",
    "                                     default_y=\"potevap\",\n",
    "                                     valid_x=sorted(INPUTS_COLUMNS + FORCINGS_COLUMNS),\n",
    "                                     valid_y=sorted(OUTPUTS_COLUMNS))"
   ]
  },
  {
   "cell_type": "code",
   "execution_count": null,
   "metadata": {},
   "outputs": [],
   "source": []
  }
 ],
 "metadata": {
  "kernelspec": {
   "display_name": "master-thesis-U6WNLqtN-py3.9",
   "language": "python",
   "name": "python3"
  },
  "language_info": {
   "codemirror_mode": {
    "name": "ipython",
    "version": 3
   },
   "file_extension": ".py",
   "mimetype": "text/x-python",
   "name": "python",
   "nbconvert_exporter": "python",
   "pygments_lexer": "ipython3",
   "version": "3.9.13"
  }
 },
 "nbformat": 4,
 "nbformat_minor": 2
}
