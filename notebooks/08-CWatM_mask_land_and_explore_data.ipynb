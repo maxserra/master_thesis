{
 "cells": [
  {
   "cell_type": "markdown",
   "metadata": {},
   "source": [
    "# Explore CWatM data"
   ]
  },
  {
   "cell_type": "code",
   "execution_count": 1,
   "metadata": {},
   "outputs": [],
   "source": [
    "%load_ext autoreload\n",
    "%autoreload 2\n",
    "\n",
    "import sys\n",
    "sys.path.append(\"..\")\n",
    "\n",
    "from pathlib import Path\n",
    "\n",
    "from tqdm.notebook import tqdm\n",
    "import pandas as pd\n",
    "import xarray as xr\n",
    "\n",
    "import plotly.express as px\n",
    "\n",
    "import src.data.cwatm_data as cwatm_data"
   ]
  },
  {
   "cell_type": "code",
   "execution_count": 2,
   "metadata": {},
   "outputs": [],
   "source": [
    "PROCESSED_DATA_FOLDER_PATH = Path(\"../data/processed\")"
   ]
  },
  {
   "cell_type": "markdown",
   "metadata": {},
   "source": [
    "## Load CWatM data"
   ]
  },
  {
   "cell_type": "code",
   "execution_count": null,
   "metadata": {},
   "outputs": [],
   "source": [
    "all_df = xr.open_dataset(PROCESSED_DATA_FOLDER_PATH.joinpath(\"CWatM_data\", \"all.nc\")).to_dataframe()\n",
    "forcings_df = xr.open_dataset(PROCESSED_DATA_FOLDER_PATH.joinpath(\"CWatM_data\", \"forcings.nc\")).to_dataframe()\n",
    "outputs_df = xr.open_dataset(PROCESSED_DATA_FOLDER_PATH.joinpath(\"CWatM_data\", \"outputs.nc\")).to_dataframe()"
   ]
  },
  {
   "cell_type": "code",
   "execution_count": null,
   "metadata": {},
   "outputs": [],
   "source": [
    "all_df"
   ]
  },
  {
   "cell_type": "code",
   "execution_count": null,
   "metadata": {},
   "outputs": [],
   "source": [
    "forcings_df"
   ]
  },
  {
   "cell_type": "code",
   "execution_count": null,
   "metadata": {},
   "outputs": [],
   "source": [
    "outputs_df"
   ]
  },
  {
   "cell_type": "markdown",
   "metadata": {},
   "source": [
    "### Process the data"
   ]
  },
  {
   "cell_type": "code",
   "execution_count": null,
   "metadata": {},
   "outputs": [],
   "source": [
    "all_land_df = cwatm_data.process_inputs_df(all_df)\n",
    "all_land_df"
   ]
  },
  {
   "cell_type": "code",
   "execution_count": null,
   "metadata": {},
   "outputs": [],
   "source": [
    "forcings_land_df = forcings_df.loc[all_land_df.index]\n",
    "forcings_land_df"
   ]
  },
  {
   "cell_type": "code",
   "execution_count": null,
   "metadata": {},
   "outputs": [],
   "source": [
    "outputs_land_df = outputs_df.loc[all_land_df.index]\n",
    "outputs_land_df"
   ]
  },
  {
   "cell_type": "code",
   "execution_count": null,
   "metadata": {},
   "outputs": [],
   "source": [
    "all_land_df.to_parquet(PROCESSED_DATA_FOLDER_PATH.joinpath(\"CWatM_data\", \"all_land.parquet\"))\n",
    "forcings_land_df.to_parquet(PROCESSED_DATA_FOLDER_PATH.joinpath(\"CWatM_data\", \"forcings_land.parquet\"))\n",
    "outputs_land_df.to_parquet(PROCESSED_DATA_FOLDER_PATH.joinpath(\"CWatM_data\", \"outputs_land.parquet\"))"
   ]
  },
  {
   "cell_type": "markdown",
   "metadata": {},
   "source": [
    "## Load CWatM `_land` data"
   ]
  },
  {
   "cell_type": "code",
   "execution_count": 3,
   "metadata": {},
   "outputs": [],
   "source": [
    "all_land_df = pd.read_parquet(PROCESSED_DATA_FOLDER_PATH.joinpath(\"CWatM_data\", \"all_land.parquet\"))\n",
    "forcings_land_df = pd.read_parquet(PROCESSED_DATA_FOLDER_PATH.joinpath(\"CWatM_data\", \"forcings_land.parquet\"))\n",
    "outputs_land_df = pd.read_parquet(PROCESSED_DATA_FOLDER_PATH.joinpath(\"CWatM_data\", \"outputs_land.parquet\"))"
   ]
  },
  {
   "cell_type": "code",
   "execution_count": null,
   "metadata": {},
   "outputs": [],
   "source": [
    "all_land_df.describe()"
   ]
  },
  {
   "cell_type": "code",
   "execution_count": null,
   "metadata": {},
   "outputs": [],
   "source": [
    "forcings_land_df.describe()"
   ]
  },
  {
   "cell_type": "code",
   "execution_count": null,
   "metadata": {},
   "outputs": [],
   "source": [
    "outputs_land_df.describe()"
   ]
  },
  {
   "cell_type": "markdown",
   "metadata": {},
   "source": [
    "## Visualize data"
   ]
  },
  {
   "cell_type": "code",
   "execution_count": 7,
   "metadata": {},
   "outputs": [],
   "source": [
    "data_df = pd.concat((all_land_df, forcings_land_df, outputs_land_df), axis=1)"
   ]
  },
  {
   "cell_type": "code",
   "execution_count": null,
   "metadata": {},
   "outputs": [],
   "source": [
    "INPUTS_COLUMNS = list(all_land_df.columns)\n",
    "#     \"porosity\",\n",
    "#     \"firstStorDepth\",\n",
    "#     \"percolationImp\",\n",
    "#     \"tanslope\",\n",
    "#     \"maxRootDepth_forest\",\n",
    "#     \"maxRootDepth_grassland\"\n",
    "# ]\n",
    "FORCINGS_COLUMNS = list(forcings_land_df.columns)\n",
    "#     \"pr\",\n",
    "#     \"tas\",\n",
    "#     \"tasmax\",\n",
    "#     \"tasmin\",\n",
    "#     \"ps\",\n",
    "#     \"rlds\",\n",
    "#     \"rsds\",\n",
    "#     \"sfcwind\",\n",
    "#     \"hurs\",\n",
    "#     \"huss\",\n",
    "# ]\n",
    "OUTPUTS_COLUMNS = list(outputs_land_df.columns)\n",
    "#     \"evap-total\",\n",
    "#     \"potevap\",\n",
    "#     \"qr\",\n",
    "#     \"qtot\"\n",
    "# ]\n",
    "\n",
    "# data_df = data_df.iloc[:1000]\n",
    "\n",
    "data_df.shape"
   ]
  },
  {
   "cell_type": "code",
   "execution_count": 214,
   "metadata": {},
   "outputs": [],
   "source": [
    "from itertools import product\n",
    "from tqdm import tqdm\n",
    "\n",
    "import matplotlib.pyplot as plt\n",
    "from matplotlib.markers import MarkerStyle\n",
    "import matplotlib.patheffects as mpe\n",
    "\n",
    "def display_individual_scatterplots(df: pd.DataFrame,\n",
    "                                    dst_path: Path,\n",
    "                                    valid_x,\n",
    "                                    valid_y,\n",
    "                                    regions_df = None,\n",
    "                                    regions_2x2 = True,\n",
    "                                    measures_df = None,\n",
    "                                    measures_regions_df_dict = None,\n",
    "                                    regions_color_palette = None,\n",
    "                                    ):\n",
    "\n",
    "    marker_style = MarkerStyle(marker=\".\",\n",
    "                               fillstyle=\"full\")\n",
    "    outline = mpe.withStroke(linewidth=4, foreground='white')\n",
    "    if regions_color_palette is None:\n",
    "        palette = {\"wet warm\": \"#018571\",\n",
    "                    \"dry warm\": \"#a6611a\",\n",
    "                    \"wet cold\": \"#80cdc1\",\n",
    "                    \"dry cold\": \"#dfc27d\"}\n",
    "    else:\n",
    "        palette = regions_color_palette\n",
    "    \n",
    "    combinations = product(valid_x, valid_y)\n",
    "\n",
    "    for input_col, output_col in tqdm(list(combinations), desc=\"Computing input-output combinations\"):\n",
    "    \n",
    "        if regions_df is None:\n",
    "\n",
    "            fig, axis = plt.subplots(nrows=1, ncols=1, figsize=(8, 6))\n",
    "            fig.suptitle(f\"Input '{input_col}' - Output '{output_col}'\")\n",
    "\n",
    "            axis.scatter(x=df[input_col], y=df[output_col],\n",
    "                         marker=marker_style,\n",
    "                         color=\"black\",\n",
    "                         edgecolor=\"none\",\n",
    "                         s=30,\n",
    "                         alpha=0.25,\n",
    "                         )\n",
    "            \n",
    "            axis.set_xlabel(input_col)\n",
    "            axis.set_ylabel(output_col)\n",
    "\n",
    "            df.sort_values(input_col, ascending=True, inplace=True)\n",
    "\n",
    "            axis.plot(df[input_col], df[output_col].rolling(window=3000,\n",
    "                                                            # win_type=\"gaussian\",\n",
    "                                                            center=True,\n",
    "                                                            ).mean(\n",
    "                                                                # std=2000\n",
    "                                                            ),\n",
    "                        c=\"black\",\n",
    "                        path_effects=[outline],\n",
    "                        label=f\"_global\"\n",
    "                        )\n",
    "\n",
    "        else:\n",
    "            \n",
    "            regions = regions_df[\"region\"].unique()\n",
    "\n",
    "            if regions_2x2:\n",
    "                fig, axis = plt.subplots(nrows=2, ncols=2, figsize=(8, 6),\n",
    "                                        sharex=True, sharey=True, constrained_layout=False)\n",
    "                axis = axis.flatten()\n",
    "                fig.suptitle(f\"Input '{input_col}' - Output '{output_col}'\")\n",
    "\n",
    "                for i, region in enumerate(regions):\n",
    "\n",
    "                    # ensure regions_df has same indexes as data_df\n",
    "                    region_indices = regions_df[regions_df[\"region\"] == region].index\n",
    "                    region_indices = set(region_indices).intersection(df.index)\n",
    "\n",
    "                    region_data_df = df.loc[list(region_indices)]\n",
    "                \n",
    "                    axis[i].scatter(x=region_data_df[input_col], y=region_data_df[output_col],\n",
    "                                    label=region,\n",
    "                                    c=palette[region],\n",
    "                                    marker=marker_style,\n",
    "                                    s=10,\n",
    "                                    edgecolor=\"none\",\n",
    "                                    alpha=0.25,\n",
    "                                    )\n",
    "                    \n",
    "                    axis[i].set_xlabel(input_col)\n",
    "                    axis[i].set_ylabel(output_col)\n",
    "                    axis[i].label_outer()\n",
    "            else:\n",
    "                fig, axis = plt.subplots(nrows=1, ncols=1, figsize=(8, 6))\n",
    "                fig.suptitle(f\"Input '{input_col}' - Output '{output_col}'\")\n",
    "\n",
    "                df.sort_values(input_col, ascending=True, inplace=True)\n",
    "\n",
    "                axis.plot(df[input_col], df[output_col].rolling(window=3000,\n",
    "                                                                # win_type=\"gaussian\",\n",
    "                                                                center=True,\n",
    "                                                                ).mean(\n",
    "                                                                    # std=2000\n",
    "                                                                ),\n",
    "                            c=\"black\",\n",
    "                            path_effects=[outline],\n",
    "                            label=f\"_global\"\n",
    "                            )\n",
    "                \n",
    "                for i, region in enumerate(regions):\n",
    "\n",
    "                    # ensure regions_df has same indexes as data_df\n",
    "                    region_indices = regions_df[regions_df[\"region\"] == region].index\n",
    "                    region_indices = set(region_indices).intersection(df.index)\n",
    "\n",
    "                    region_data_df = df.loc[list(region_indices)]\n",
    "                \n",
    "                    axis.scatter(x=region_data_df[input_col], y=region_data_df[output_col],\n",
    "                                 label=region,\n",
    "                                 c=palette[region],\n",
    "                                 marker=marker_style,\n",
    "                                 s=10,\n",
    "                                 edgecolor=\"none\",\n",
    "                                 alpha=0.25,\n",
    "                                 )\n",
    "                    \n",
    "                    region_data_df.sort_values(input_col, ascending=True, inplace=True)\n",
    "\n",
    "                    axis.plot(region_data_df[input_col], region_data_df[output_col].rolling(window=3000,\n",
    "                                                                                            # win_type=\"gaussian\",\n",
    "                                                                                            center=True,\n",
    "                                                                                            ).mean(\n",
    "                                                                                                # std=2000\n",
    "                                                                                            ),\n",
    "                              c=palette[region],\n",
    "                              path_effects=[outline],\n",
    "                              label=f\"_{region}\"\n",
    "                              )\n",
    "                \n",
    "                axis.set_xlabel(input_col)\n",
    "                axis.set_ylabel(output_col)\n",
    "                axis.label_outer()\n",
    "\n",
    "        # Adjust layout and display the plots\n",
    "        fig.tight_layout()\n",
    "        if regions_df is not None:\n",
    "            fig.subplots_adjust(bottom=0.13)\n",
    "            legend = fig.legend(#labels=regions,\n",
    "                                # title=\"Climate regions\",\n",
    "                                markerscale=3,\n",
    "                                loc=\"lower left\",\n",
    "                                ncol=4)\n",
    "            \n",
    "            for legobj in legend.legend_handles:\n",
    "                legobj.set_alpha(1)\n",
    "\n",
    "        if measures_df is not None:\n",
    "\n",
    "            import numpy as np\n",
    "\n",
    "            measures_values = measures_df.loc[input_col, output_col]\n",
    "            fig.subplots_adjust(bottom=0.165)\n",
    "            \n",
    "            # Extract and round the values\n",
    "            pearson_val = np.round(abs(measures_values['pearson']), 2)\n",
    "            spearman_val = np.round(abs(measures_values['spearman']), 2)\n",
    "            mic_val = np.round(abs(measures_values['MIC']), 2)\n",
    "\n",
    "            # Fixed x-position and manual alignment\n",
    "            y_position = -0.139\n",
    "            x_label = 0.734\n",
    "            x_value = x_label + 0.005  # Slightly shifted to the right for alignment\n",
    "\n",
    "            # Add labels\n",
    "            axis.text(x_label, y_position, \"Pearson:\\nSpearman:\\nMIC:\",\n",
    "                        transform=axis.transAxes, va='center', ha='right', fontsize=10, color=\"black\")\n",
    "\n",
    "            # Add values with manual alignment\n",
    "            axis.text(x_value, y_position, f\"{pearson_val:.2f}\\n{spearman_val:.2f}\\n{mic_val:.2f}\", \n",
    "                      transform=axis.transAxes, va='center', ha='left', fontsize=10, color=\"black\")\n",
    "\n",
    "            if regions_df is not None:\n",
    "\n",
    "                regions = regions_df[\"region\"].unique()\n",
    "\n",
    "                if regions_2x2:\n",
    "                    pass\n",
    "                else:\n",
    "                    for i, region in enumerate(regions):\n",
    "\n",
    "                        measures_values = measures_regions_df_dict[region].loc[input_col, output_col]\n",
    "\n",
    "                        # Extract and round the values\n",
    "                        pearson_val = np.round(abs(measures_values['pearson']), 2)\n",
    "                        spearman_val = np.round(abs(measures_values['spearman']), 2)\n",
    "                        mic_val = np.round(abs(measures_values['MIC']), 2)\n",
    "                        # Add values with manual alignment\n",
    "                        axis.text(x_value + 0.055 * (1 + i), y_position, f\"{pearson_val:.2f}\\n{spearman_val:.2f}\\n{mic_val:.2f}\", \n",
    "                                  transform=axis.transAxes, va='center', ha='left', fontsize=10, color=palette[region])\n",
    "\n",
    "        fig.savefig(dst_path.joinpath(f\"{input_col}_{output_col}.png\"), dpi=300)\n",
    "\n",
    "        plt.close()\n"
   ]
  },
  {
   "cell_type": "markdown",
   "metadata": {},
   "source": [
    "### Global"
   ]
  },
  {
   "cell_type": "code",
   "execution_count": null,
   "metadata": {},
   "outputs": [],
   "source": [
    "display_individual_scatterplots(df=data_df,\n",
    "                                dst_path=Path(\"../reports/figures/CWatM_data/scatterplots\"),\n",
    "                                valid_x=INPUTS_COLUMNS + FORCINGS_COLUMNS,\n",
    "                                valid_y=OUTPUTS_COLUMNS\n",
    "                                )"
   ]
  },
  {
   "cell_type": "markdown",
   "metadata": {},
   "source": [
    "### Gnann regions"
   ]
  },
  {
   "cell_type": "code",
   "execution_count": null,
   "metadata": {},
   "outputs": [],
   "source": [
    "RAW_DATA_FOLDER_PATH = Path(\"../data/raw\")\n",
    "\n",
    "domains_df = pd.read_csv(RAW_DATA_FOLDER_PATH.joinpath(\"ISIMIP_2b_aggregated_variables\", \"domains.csv\"))\n",
    "domains_df = domains_df[[\"lon\", \"lat\", \"domain_days_below_1_0.08_aridity_netrad\"]]\n",
    "regions_df = domains_df.rename(columns={\"domain_days_below_1_0.08_aridity_netrad\": \"region\"})\n",
    "regions_df = regions_df.set_index([\"lon\", \"lat\"])\n",
    "\n",
    "regions_df"
   ]
  },
  {
   "cell_type": "code",
   "execution_count": null,
   "metadata": {},
   "outputs": [],
   "source": [
    "display_individual_scatterplots(df=data_df,\n",
    "                                dst_path=Path(\"../reports/figures/CWatM_data/scatterplots_regions_2x2_Gnann\"),\n",
    "                                valid_x=INPUTS_COLUMNS + FORCINGS_COLUMNS,\n",
    "                                valid_y=OUTPUTS_COLUMNS,\n",
    "                                regions_df=regions_df,\n",
    "                                regions_2x2=True\n",
    "                                )"
   ]
  },
  {
   "cell_type": "code",
   "execution_count": null,
   "metadata": {},
   "outputs": [],
   "source": [
    "display_individual_scatterplots(df=data_df,\n",
    "                                dst_path=Path(\"../reports/figures/CWatM_data/scatterplots_regions_Gnann\"),\n",
    "                                valid_x=INPUTS_COLUMNS + FORCINGS_COLUMNS,\n",
    "                                valid_y=OUTPUTS_COLUMNS,\n",
    "                                regions_df=regions_df,\n",
    "                                regions_2x2=False\n",
    "                                )"
   ]
  },
  {
   "cell_type": "markdown",
   "metadata": {},
   "source": [
    "### Global with measures"
   ]
  },
  {
   "cell_type": "code",
   "execution_count": null,
   "metadata": {},
   "outputs": [],
   "source": [
    "CWATM_MEASURES_FOLDER = Path(\"../data/processed\", \"bivariate_metrics\", \"CWatM\")\n",
    "\n",
    "measures_df = pd.read_csv(CWATM_MEASURES_FOLDER.joinpath(\"measures_global.csv\"),\n",
    "                          index_col=[\"input\", \"output\"])\n",
    "measures_dc_df = pd.read_csv(CWATM_MEASURES_FOLDER.joinpath(\"measures_dry cold.csv\"),\n",
    "                          index_col=[\"input\", \"output\"])\n",
    "measures_dw_df = pd.read_csv(CWATM_MEASURES_FOLDER.joinpath(\"measures_dry warm.csv\"),\n",
    "                          index_col=[\"input\", \"output\"])\n",
    "measures_wc_df = pd.read_csv(CWATM_MEASURES_FOLDER.joinpath(\"measures_wet cold.csv\"),\n",
    "                          index_col=[\"input\", \"output\"])\n",
    "measures_ww_df = pd.read_csv(CWATM_MEASURES_FOLDER.joinpath(\"measures_wet warm.csv\"),\n",
    "                          index_col=[\"input\", \"output\"])\n",
    "\n",
    "measures_regions_df_dict = {\n",
    "    \"dry cold\": measures_dc_df,\n",
    "    \"dry warm\": measures_dw_df,\n",
    "    \"wet cold\": measures_wc_df,\n",
    "    \"wet warm\": measures_ww_df,\n",
    "}"
   ]
  },
  {
   "cell_type": "code",
   "execution_count": null,
   "metadata": {},
   "outputs": [],
   "source": [
    "display_individual_scatterplots(df=data_df,\n",
    "                                dst_path=Path(\"../reports/figures/CWatM_data/scatterplots_with_measures\"),\n",
    "                                valid_x=INPUTS_COLUMNS + FORCINGS_COLUMNS,\n",
    "                                valid_y=OUTPUTS_COLUMNS,\n",
    "                                measures_df=measures_df\n",
    "                                )"
   ]
  },
  {
   "cell_type": "markdown",
   "metadata": {},
   "source": [
    "### Gnann regions with measures"
   ]
  },
  {
   "cell_type": "code",
   "execution_count": null,
   "metadata": {},
   "outputs": [],
   "source": [
    "display_individual_scatterplots(df=data_df,\n",
    "                                dst_path=Path(\"../reports/figures/CWatM_data/scatterplots_regions_Gnann_with_measures\"),\n",
    "                                valid_x=INPUTS_COLUMNS + FORCINGS_COLUMNS,\n",
    "                                valid_y=OUTPUTS_COLUMNS,\n",
    "                                regions_df=regions_df,\n",
    "                                regions_2x2=False,\n",
    "                                measures_df=measures_df,\n",
    "                                measures_regions_df_dict=measures_regions_df_dict\n",
    "                                )"
   ]
  },
  {
   "cell_type": "markdown",
   "metadata": {},
   "source": [
    "### Chanleng regions with measures"
   ]
  },
  {
   "cell_type": "code",
   "execution_count": 216,
   "metadata": {},
   "outputs": [],
   "source": [
    "regions_df = pd.read_csv(\"../data/processed/CWatM_data/chanleng_regions.csv\", index_col=[\"lon\", \"lat\"])\n",
    "\n",
    "CWATM_MEASURES_FOLDER = Path(\"../data/processed\", \"bivariate_metrics\", \"CWatM\")\n",
    "\n",
    "measures_df = pd.read_csv(CWATM_MEASURES_FOLDER.joinpath(\"measures_global.csv\"),\n",
    "                          index_col=[\"input\", \"output\"])\n",
    "measures_1_df = pd.read_csv(CWATM_MEASURES_FOLDER.joinpath(\"measures_chanleng_1.csv\"),\n",
    "                          index_col=[\"input\", \"output\"])\n",
    "measures_2_df = pd.read_csv(CWATM_MEASURES_FOLDER.joinpath(\"measures_chanleng_2.csv\"),\n",
    "                          index_col=[\"input\", \"output\"])\n",
    "measures_3_df = pd.read_csv(CWATM_MEASURES_FOLDER.joinpath(\"measures_chanleng_3.csv\"),\n",
    "                          index_col=[\"input\", \"output\"])\n",
    "measures_4_df = pd.read_csv(CWATM_MEASURES_FOLDER.joinpath(\"measures_chanleng_4.csv\"),\n",
    "                          index_col=[\"input\", \"output\"])\n",
    "\n",
    "measures_regions_df_dict = {\n",
    "    1: measures_1_df,\n",
    "    2: measures_2_df,\n",
    "    3: measures_3_df,\n",
    "    4: measures_4_df,\n",
    "}"
   ]
  },
  {
   "cell_type": "code",
   "execution_count": null,
   "metadata": {},
   "outputs": [],
   "source": [
    "display_individual_scatterplots(df=data_df,\n",
    "                                dst_path=Path(\"../reports/figures/CWatM_data/scatterplots_regions_chanleng_with_measures\"),\n",
    "                                valid_x=[\"chanleng\"],\n",
    "                                valid_y=OUTPUTS_COLUMNS,\n",
    "                                regions_df=regions_df,\n",
    "                                regions_2x2=False,\n",
    "                                measures_df=measures_df,\n",
    "                                measures_regions_df_dict=measures_regions_df_dict,\n",
    "                                regions_color_palette={1: \"red\",\n",
    "                                                       2: \"blue\",\n",
    "                                                       3: \"green\",\n",
    "                                                       4: \"purple\"},\n",
    "                                )"
   ]
  },
  {
   "cell_type": "markdown",
   "metadata": {},
   "source": [
    "## Interactive"
   ]
  },
  {
   "cell_type": "code",
   "execution_count": null,
   "metadata": {},
   "outputs": [],
   "source": [
    "from src.visualization import visualize\n",
    "\n",
    "\n",
    "data_df = data_df.sample(frac=0.2)\n",
    "\n",
    "visualize.plot_scatter_with_dropdown(df=data_df,\n",
    "                                     default_x=\"pr\",\n",
    "                                     default_y=\"potevap\",\n",
    "                                     valid_x=sorted(INPUTS_COLUMNS + FORCINGS_COLUMNS),\n",
    "                                     valid_y=sorted(OUTPUTS_COLUMNS))"
   ]
  }
 ],
 "metadata": {
  "kernelspec": {
   "display_name": "master-thesis-U6WNLqtN-py3.9",
   "language": "python",
   "name": "python3"
  },
  "language_info": {
   "codemirror_mode": {
    "name": "ipython",
    "version": 3
   },
   "file_extension": ".py",
   "mimetype": "text/x-python",
   "name": "python",
   "nbconvert_exporter": "python",
   "pygments_lexer": "ipython3",
   "version": "3.9.13"
  }
 },
 "nbformat": 4,
 "nbformat_minor": 2
}
