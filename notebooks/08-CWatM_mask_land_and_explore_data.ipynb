{
 "cells": [
  {
   "cell_type": "markdown",
   "metadata": {},
   "source": [
    "# Explore CWatM data"
   ]
  },
  {
   "cell_type": "code",
   "execution_count": null,
   "metadata": {},
   "outputs": [],
   "source": [
    "%load_ext autoreload\n",
    "%autoreload 2\n",
    "\n",
    "import sys\n",
    "sys.path.append(\"..\")\n",
    "\n",
    "from pathlib import Path\n",
    "\n",
    "from tqdm.notebook import tqdm\n",
    "import pandas as pd\n",
    "import xarray as xr\n",
    "\n",
    "import plotly.express as px\n",
    "\n",
    "import src.data.cwatm_data as cwatm_data"
   ]
  },
  {
   "cell_type": "code",
   "execution_count": 15,
   "metadata": {},
   "outputs": [],
   "source": [
    "PROCESSED_DATA_FOLDER_PATH = Path(\"../data/processed\")"
   ]
  },
  {
   "cell_type": "markdown",
   "metadata": {},
   "source": [
    "## Load CWatM data"
   ]
  },
  {
   "cell_type": "code",
   "execution_count": 16,
   "metadata": {},
   "outputs": [],
   "source": [
    "all_df = xr.open_dataset(PROCESSED_DATA_FOLDER_PATH.joinpath(\"CWatM_data\", \"all.nc\")).to_dataframe()\n",
    "forcings_df = xr.open_dataset(PROCESSED_DATA_FOLDER_PATH.joinpath(\"CWatM_data\", \"forcings.nc\")).to_dataframe()\n",
    "outputs_df = xr.open_dataset(PROCESSED_DATA_FOLDER_PATH.joinpath(\"CWatM_data\", \"outputs.nc\")).to_dataframe()"
   ]
  },
  {
   "cell_type": "code",
   "execution_count": null,
   "metadata": {},
   "outputs": [],
   "source": [
    "all_df"
   ]
  },
  {
   "cell_type": "code",
   "execution_count": null,
   "metadata": {},
   "outputs": [],
   "source": [
    "forcings_df"
   ]
  },
  {
   "cell_type": "code",
   "execution_count": null,
   "metadata": {},
   "outputs": [],
   "source": [
    "outputs_df"
   ]
  },
  {
   "cell_type": "markdown",
   "metadata": {},
   "source": [
    "### Process the data"
   ]
  },
  {
   "cell_type": "code",
   "execution_count": null,
   "metadata": {},
   "outputs": [],
   "source": [
    "all_land_df = cwatm_data.process_inputs_df(all_df)\n",
    "all_land_df"
   ]
  },
  {
   "cell_type": "code",
   "execution_count": null,
   "metadata": {},
   "outputs": [],
   "source": [
    "forcings_land_df = forcings_df.loc[all_land_df.index]\n",
    "forcings_land_df"
   ]
  },
  {
   "cell_type": "code",
   "execution_count": null,
   "metadata": {},
   "outputs": [],
   "source": [
    "outputs_land_df = outputs_df.loc[all_land_df.index]\n",
    "outputs_land_df"
   ]
  },
  {
   "cell_type": "code",
   "execution_count": 29,
   "metadata": {},
   "outputs": [],
   "source": [
    "all_land_df.to_parquet(PROCESSED_DATA_FOLDER_PATH.joinpath(\"CWatM_data\", \"all_land.parquet\"))\n",
    "forcings_land_df.to_parquet(PROCESSED_DATA_FOLDER_PATH.joinpath(\"CWatM_data\", \"forcings_land.parquet\"))\n",
    "outputs_land_df.to_parquet(PROCESSED_DATA_FOLDER_PATH.joinpath(\"CWatM_data\", \"outputs_land.parquet\"))"
   ]
  },
  {
   "cell_type": "markdown",
   "metadata": {},
   "source": [
    "## Load CWatM `_land` data"
   ]
  },
  {
   "cell_type": "code",
   "execution_count": 11,
   "metadata": {},
   "outputs": [],
   "source": [
    "all_land_df = xr.open_dataset(PROCESSED_DATA_FOLDER_PATH.joinpath(\"CWatM_data\", \"all_land.nc\")).to_dataframe()\n",
    "forcings_land_df = xr.open_dataset(PROCESSED_DATA_FOLDER_PATH.joinpath(\"CWatM_data\", \"forcings_land.nc\")).to_dataframe()\n",
    "outputs_land_df = xr.open_dataset(PROCESSED_DATA_FOLDER_PATH.joinpath(\"CWatM_data\", \"outputs_land.nc\")).to_dataframe()"
   ]
  },
  {
   "cell_type": "code",
   "execution_count": null,
   "metadata": {},
   "outputs": [],
   "source": [
    "all_land_df.describe()"
   ]
  },
  {
   "cell_type": "code",
   "execution_count": null,
   "metadata": {},
   "outputs": [],
   "source": [
    "forcings_land_df.describe()"
   ]
  },
  {
   "cell_type": "code",
   "execution_count": null,
   "metadata": {},
   "outputs": [],
   "source": [
    "outputs_land_df.describe()"
   ]
  },
  {
   "cell_type": "markdown",
   "metadata": {},
   "source": [
    "## Visualize data"
   ]
  },
  {
   "cell_type": "code",
   "execution_count": null,
   "metadata": {},
   "outputs": [],
   "source": [
    "from src.visualization import visualize\n",
    "\n",
    "\n",
    "INPUTS_COLUMNS = []\n",
    "FORCINGS_COLUMNS = [\"pr\", \"rsds\"]\n",
    "OUTPUTS_COLUMNS = [\"evap-total\", \"potevap\", \"qr\", \"qtot\"]\n",
    "\n",
    "data_df = pd.concat((all_land_df[INPUTS_COLUMNS], forcings_land_df[FORCINGS_COLUMNS], outputs_land_df[OUTPUTS_COLUMNS]), axis=1)\n",
    "\n",
    "visualize.plot_scatter_with_dropdown(df=data_df,\n",
    "                                     default_x=\"pr\",\n",
    "                                     default_y=\"potevap\",\n",
    "                                     valid_x=INPUTS_COLUMNS + FORCINGS_COLUMNS,\n",
    "                                     valid_y=OUTPUTS_COLUMNS)"
   ]
  },
  {
   "cell_type": "code",
   "execution_count": null,
   "metadata": {},
   "outputs": [],
   "source": []
  },
  {
   "cell_type": "code",
   "execution_count": null,
   "metadata": {},
   "outputs": [],
   "source": []
  }
 ],
 "metadata": {
  "kernelspec": {
   "display_name": "master-thesis-U6WNLqtN-py3.9",
   "language": "python",
   "name": "python3"
  },
  "language_info": {
   "codemirror_mode": {
    "name": "ipython",
    "version": 3
   },
   "file_extension": ".py",
   "mimetype": "text/x-python",
   "name": "python",
   "nbconvert_exporter": "python",
   "pygments_lexer": "ipython3",
   "version": "3.9.13"
  }
 },
 "nbformat": 4,
 "nbformat_minor": 2
}
