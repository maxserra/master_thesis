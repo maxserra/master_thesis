{
 "cells": [
  {
   "cell_type": "markdown",
   "metadata": {},
   "source": [
    "# Compute metrics on Gnann data"
   ]
  },
  {
   "cell_type": "code",
   "execution_count": null,
   "metadata": {},
   "outputs": [],
   "source": [
    "%load_ext autoreload\n",
    "%autoreload 2\n",
    "\n",
    "import sys\n",
    "sys.path.append(\"..\")\n",
    "\n",
    "from pathlib import Path\n",
    "\n",
    "from tqdm import tqdm\n",
    "import pandas as pd\n",
    "import dataframe_image as dfi\n",
    "import matplotlib.pyplot as plt\n",
    "\n",
    "import src.visualization.visualize as visualize\n",
    "import src.data.utils as utils\n",
    "from src.dependence_measures.compare import compute_bivariate_scores"
   ]
  },
  {
   "cell_type": "code",
   "execution_count": 5,
   "metadata": {},
   "outputs": [],
   "source": [
    "PROCESSED_DATA_FOLDER_PATH = Path(\"../data/processed\")\n",
    "\n",
    "DOMAINS_COLUMN = \"domain\"\n",
    "\n",
    "MODEL = \"pcr-globwb\"\n",
    "\n",
    "INPUTS_COLUMNS = [\"pr\", \"netrad\"]\n",
    "OUTPUTS_COLUMNS = [\"evap\", \"potevap\", \"qr\", \"qtot\"]"
   ]
  },
  {
   "cell_type": "markdown",
   "metadata": {},
   "source": [
    "## Load Gnann data"
   ]
  },
  {
   "cell_type": "code",
   "execution_count": null,
   "metadata": {},
   "outputs": [],
   "source": [
    "data_df = pd.read_csv(PROCESSED_DATA_FOLDER_PATH.joinpath(f\"gnann_data_{MODEL}.csv\"), index_col=False)\n",
    "data_df"
   ]
  },
  {
   "cell_type": "code",
   "execution_count": null,
   "metadata": {},
   "outputs": [],
   "source": [
    "data_df.shape"
   ]
  },
  {
   "cell_type": "markdown",
   "metadata": {},
   "source": [
    "## Compute bi-variate metrics"
   ]
  },
  {
   "cell_type": "code",
   "execution_count": 8,
   "metadata": {},
   "outputs": [],
   "source": [
    "STORE_RESULTS = True\n",
    "LOAD_RESULTS = True\n",
    "\n",
    "# data_df = data_df.iloc[:1000]\n",
    "# data_df.shape"
   ]
  },
  {
   "cell_type": "markdown",
   "metadata": {},
   "source": [
    "### On all data"
   ]
  },
  {
   "cell_type": "code",
   "execution_count": null,
   "metadata": {},
   "outputs": [],
   "source": [
    "scores_df = compute_bivariate_scores(data_df, input_cols=INPUTS_COLUMNS, output_cols=OUTPUTS_COLUMNS)"
   ]
  },
  {
   "cell_type": "code",
   "execution_count": null,
   "metadata": {},
   "outputs": [],
   "source": [
    "if STORE_RESULTS:\n",
    "    scores_df.to_csv(PROCESSED_DATA_FOLDER_PATH.joinpath(\"bivariate_metrics\", MODEL, \"scores_all.csv\"))\n",
    "\n",
    "scores_df"
   ]
  },
  {
   "cell_type": "code",
   "execution_count": null,
   "metadata": {},
   "outputs": [],
   "source": [
    "scores_df_styled = scores_df.style.format(lambda x: f\"{x:.2f}\")#.background_gradient(cmap=\"OrRd\", axis=0)\n",
    "\n",
    "display(scores_df_styled)\n",
    "if STORE_RESULTS:\n",
    "    dfi.export(scores_df_styled, f\"../reports/tables/gnann_data/bivariate_metrics_{MODEL}.png\", dpi=300)"
   ]
  },
  {
   "cell_type": "markdown",
   "metadata": {},
   "source": [
    "#### Compute baseline"
   ]
  },
  {
   "cell_type": "code",
   "execution_count": null,
   "metadata": {},
   "outputs": [],
   "source": [
    "N_OF_SHUFFLES = 20\n",
    "\n",
    "shuffle_scores_df_list = []\n",
    "\n",
    "for _ in range(N_OF_SHUFFLES):\n",
    "    shuffle_data_df = utils.shuffle_data(data_df)\n",
    "\n",
    "    shuffle_scores_df = compute_bivariate_scores(shuffle_data_df, input_cols=INPUTS_COLUMNS, output_cols=OUTPUTS_COLUMNS)\n",
    "\n",
    "    if STORE_RESULTS:\n",
    "        import uuid\n",
    "        \n",
    "        shuffle_scores_folder = PROCESSED_DATA_FOLDER_PATH.joinpath(\"bivariate_metrics\", MODEL, \"shuffled_baseline\")\n",
    "        shuffle_scores_df.to_csv(shuffle_scores_folder.joinpath(f\"scores_{uuid.uuid4()}.csv\"))\n",
    "\n",
    "    shuffle_scores_df_list.append(shuffle_scores_df)"
   ]
  },
  {
   "cell_type": "code",
   "execution_count": null,
   "metadata": {},
   "outputs": [],
   "source": [
    "len(shuffle_scores_df_list)"
   ]
  },
  {
   "cell_type": "code",
   "execution_count": null,
   "metadata": {},
   "outputs": [],
   "source": []
  },
  {
   "cell_type": "code",
   "execution_count": null,
   "metadata": {},
   "outputs": [],
   "source": []
  },
  {
   "cell_type": "markdown",
   "metadata": {},
   "source": [
    "#### Analyse results"
   ]
  },
  {
   "cell_type": "code",
   "execution_count": null,
   "metadata": {},
   "outputs": [],
   "source": [
    "if LOAD_RESULTS:\n",
    "    scores_df = pd.read_csv(PROCESSED_DATA_FOLDER_PATH.joinpath(\"bivariate_metrics\", MODEL, \"scores_all.csv\"), index_col=[\"input\", \"output\"])\n",
    "\n",
    "scores_df"
   ]
  },
  {
   "cell_type": "code",
   "execution_count": null,
   "metadata": {},
   "outputs": [],
   "source": [
    "if LOAD_RESULTS:\n",
    "\n",
    "    shuffle_data_folder = PROCESSED_DATA_FOLDER_PATH.joinpath(\"bivariate_metrics\", MODEL, \"shuffled_baseline\")\n",
    "    shuffle_scores_df_list = []\n",
    "\n",
    "    for file in shuffle_data_folder.rglob(\"*.csv\"):\n",
    "        shuffle_scores_df_list.append(pd.read_csv(file, index_col=[\"input\", \"output\"]))\n",
    "\n",
    "len(shuffle_scores_df_list)"
   ]
  },
  {
   "cell_type": "code",
   "execution_count": 103,
   "metadata": {},
   "outputs": [],
   "source": [
    "# scores_df_styled = scores_df[[\"pearson\"]].sort_values(\"pearson\", ascending=False).style.format(lambda x: f\"{x:.2f}\")#.background_gradient(cmap=\"OrRd\", axis=0)\n",
    "\n",
    "# display(scores_df_styled)\n",
    "# dfi.export(scores_df_styled, f\"../reports/tables/gnann_data/bivariate_metrics_{MODEL}_pearson.png\", dpi=300)\n",
    "\n",
    "# scores_df_styled = scores_df[[\"spearman\"]].sort_values(\"spearman\", ascending=False).style.format(lambda x: f\"{x:.2f}\")#.background_gradient(cmap=\"OrRd\", axis=0)\n",
    "\n",
    "# display(scores_df_styled)\n",
    "# dfi.export(scores_df_styled, f\"../reports/tables/gnann_data/bivariate_metrics_{MODEL}_spearman.png\", dpi=300)\n",
    "\n",
    "# scores_df_styled = scores_df[[\"MIC\"]].sort_values(\"MIC\", ascending=False).style.format(lambda x: f\"{x:.2f}\")#.background_gradient(cmap=\"OrRd\", axis=0)\n",
    "\n",
    "# display(scores_df_styled)\n",
    "# dfi.export(scores_df_styled, f\"../reports/tables/gnann_data/bivariate_metrics_{MODEL}_MIC.png\", dpi=300)"
   ]
  },
  {
   "cell_type": "code",
   "execution_count": null,
   "metadata": {},
   "outputs": [],
   "source": [
    "fig = visualize.plot_metric_values_and_rank(\n",
    "    scores_df=scores_df,\n",
    "    metrics=[\"pearson\", \"spearman\", \"mutual information (sklearn)\", \"MIC\"],\n",
    "    sort_values_by=\"MIC\"\n",
    ")\n",
    "\n",
    "if STORE_RESULTS:\n",
    "    fig.savefig(\"../reports/figures/gnann_data/metrics_values_and_rank.png\")"
   ]
  },
  {
   "cell_type": "code",
   "execution_count": 159,
   "metadata": {},
   "outputs": [],
   "source": [
    "# fig = visualize.plot_metric_values_and_rank_with_shuffle(\n",
    "#     scores_df=scores_df,\n",
    "#     metrics=[\"pearson\", \"spearman\", \"mutual information (sklearn)\", \"MIC\"],\n",
    "#     shuffle_scores_df_list=shuffle_scores_df_list,\n",
    "#     sort_values_by=\"MIC\"\n",
    "# )\n",
    "\n",
    "# if STORE_RESULTS:\n",
    "#     fig.savefig(\"../reports/figures/gnann_data/metrics_values_and_rank.png\")"
   ]
  },
  {
   "cell_type": "code",
   "execution_count": null,
   "metadata": {},
   "outputs": [],
   "source": []
  },
  {
   "cell_type": "code",
   "execution_count": null,
   "metadata": {},
   "outputs": [],
   "source": [
    "fig = visualize.plot_metric_baseline_and_value(\n",
    "    scores_df=scores_df,\n",
    "    metrics=[\"pearson\", \"spearman\", \"mutual information (sklearn)\", \"MIC\", \"MAS\", \"MEV\", \"MCN_general\"],\n",
    "    shuffle_scores_df_list=shuffle_scores_df_list,\n",
    "    sort_values_by=\"MIC\"\n",
    ")\n"
   ]
  },
  {
   "cell_type": "code",
   "execution_count": null,
   "metadata": {},
   "outputs": [],
   "source": []
  },
  {
   "cell_type": "code",
   "execution_count": null,
   "metadata": {},
   "outputs": [],
   "source": [
    "scores_df_subsample = scores_df.sort_values(\"MIC\", ascending=False)\n",
    "scores_df_subsample = scores_df_subsample[[\n",
    "    # \"MIC\",\n",
    "    \"MAS\",\n",
    "    \"MEV\",\n",
    "    # \"MCN_general\"\n",
    "]].iloc[:5]\n",
    "\n",
    "scores_df_subsample_rank = scores_df_subsample.rank(axis=0)\n",
    "\n",
    "fig, axis = plt.subplots(nrows=1, ncols=2, figsize=(12, 6))\n",
    "\n",
    "axis[0].plot(scores_df_subsample.T,\n",
    "             marker=\"o\")\n",
    "axis[0].set_title(\"Metrics value\")\n",
    "axis[0].set_xlabel(\"Metric\")\n",
    "axis[0].set_ylabel(\"Value\")\n",
    "axis[1].plot(scores_df_subsample_rank.T,\n",
    "             label=list(scores_df_subsample_rank.T.columns),\n",
    "             marker=\"o\")\n",
    "axis[1].set_title(\"Metrics rank\")\n",
    "axis[1].set_xlabel(\"Metric\")\n",
    "axis[1].set_ylabel(\"Rank\")\n",
    "axis[1].legend(loc=\"lower right\")\n",
    "\n",
    "plt.tight_layout()\n",
    "plt.show()\n",
    "\n",
    "# if STORE_RESULTS:\n",
    "#     fig.savefig(\"../reports/figures/gnann_data/metrics_values_and_rank.png\")"
   ]
  },
  {
   "cell_type": "code",
   "execution_count": null,
   "metadata": {},
   "outputs": [],
   "source": []
  },
  {
   "cell_type": "code",
   "execution_count": null,
   "metadata": {},
   "outputs": [],
   "source": []
  }
 ],
 "metadata": {
  "kernelspec": {
   "display_name": "master-thesis-U6WNLqtN-py3.9",
   "language": "python",
   "name": "python3"
  },
  "language_info": {
   "codemirror_mode": {
    "name": "ipython",
    "version": 3
   },
   "file_extension": ".py",
   "mimetype": "text/x-python",
   "name": "python",
   "nbconvert_exporter": "python",
   "pygments_lexer": "ipython3",
   "version": "3.9.13"
  }
 },
 "nbformat": 4,
 "nbformat_minor": 2
}
