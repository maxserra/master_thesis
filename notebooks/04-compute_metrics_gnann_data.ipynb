{
 "cells": [
  {
   "cell_type": "markdown",
   "metadata": {},
   "source": [
    "# Compute metrics on Gnann data"
   ]
  },
  {
   "cell_type": "code",
   "execution_count": 1,
   "metadata": {},
   "outputs": [],
   "source": [
    "%load_ext autoreload\n",
    "%autoreload 2\n",
    "\n",
    "import sys\n",
    "sys.path.append(\"..\")\n",
    "\n",
    "from pathlib import Path\n",
    "\n",
    "import pandas as pd"
   ]
  },
  {
   "cell_type": "code",
   "execution_count": 4,
   "metadata": {},
   "outputs": [],
   "source": [
    "PROCESSED_DATA_FOLDER_PATH = Path(\"../data/processed\")\n",
    "\n",
    "DOMAINS_COLUMN = \"domain\"\n",
    "\n",
    "MODEL = \"pcr-globwb\"\n",
    "\n",
    "INPUTS_COLUMNS = [\"pr\", \"netrad\"]\n",
    "OUTPUTS_COLUMNS = [\"evap\", \"potevap\", \"qr\", \"qtot\"]"
   ]
  },
  {
   "cell_type": "markdown",
   "metadata": {},
   "source": [
    "## Load Gnann data"
   ]
  },
  {
   "cell_type": "code",
   "execution_count": 5,
   "metadata": {},
   "outputs": [
    {
     "data": {
      "text/html": [
       "<div>\n",
       "<style scoped>\n",
       "    .dataframe tbody tr th:only-of-type {\n",
       "        vertical-align: middle;\n",
       "    }\n",
       "\n",
       "    .dataframe tbody tr th {\n",
       "        vertical-align: top;\n",
       "    }\n",
       "\n",
       "    .dataframe thead th {\n",
       "        text-align: right;\n",
       "    }\n",
       "</style>\n",
       "<table border=\"1\" class=\"dataframe\">\n",
       "  <thead>\n",
       "    <tr style=\"text-align: right;\">\n",
       "      <th></th>\n",
       "      <th>lat</th>\n",
       "      <th>lon</th>\n",
       "      <th>pr</th>\n",
       "      <th>netrad</th>\n",
       "      <th>evap</th>\n",
       "      <th>potevap</th>\n",
       "      <th>qr</th>\n",
       "      <th>qtot</th>\n",
       "      <th>domain</th>\n",
       "    </tr>\n",
       "  </thead>\n",
       "  <tbody>\n",
       "    <tr>\n",
       "      <th>0</th>\n",
       "      <td>82.75</td>\n",
       "      <td>-82.25</td>\n",
       "      <td>116.31531</td>\n",
       "      <td>115.680597</td>\n",
       "      <td>0.00000</td>\n",
       "      <td>0.00000</td>\n",
       "      <td>0.000000</td>\n",
       "      <td>0.000000</td>\n",
       "      <td>wet cold</td>\n",
       "    </tr>\n",
       "    <tr>\n",
       "      <th>1</th>\n",
       "      <td>82.75</td>\n",
       "      <td>-81.75</td>\n",
       "      <td>183.33421</td>\n",
       "      <td>109.368197</td>\n",
       "      <td>77.23199</td>\n",
       "      <td>186.63345</td>\n",
       "      <td>78.122990</td>\n",
       "      <td>100.953619</td>\n",
       "      <td>wet cold</td>\n",
       "    </tr>\n",
       "    <tr>\n",
       "      <th>2</th>\n",
       "      <td>82.75</td>\n",
       "      <td>-81.25</td>\n",
       "      <td>185.47101</td>\n",
       "      <td>163.255589</td>\n",
       "      <td>77.44580</td>\n",
       "      <td>188.38412</td>\n",
       "      <td>86.587296</td>\n",
       "      <td>103.959123</td>\n",
       "      <td>wet cold</td>\n",
       "    </tr>\n",
       "    <tr>\n",
       "      <th>3</th>\n",
       "      <td>82.75</td>\n",
       "      <td>-80.75</td>\n",
       "      <td>186.57018</td>\n",
       "      <td>133.387732</td>\n",
       "      <td>79.07652</td>\n",
       "      <td>183.37039</td>\n",
       "      <td>74.703705</td>\n",
       "      <td>103.137103</td>\n",
       "      <td>wet cold</td>\n",
       "    </tr>\n",
       "    <tr>\n",
       "      <th>4</th>\n",
       "      <td>82.75</td>\n",
       "      <td>-80.25</td>\n",
       "      <td>188.50586</td>\n",
       "      <td>107.377043</td>\n",
       "      <td>80.29123</td>\n",
       "      <td>173.71771</td>\n",
       "      <td>69.313614</td>\n",
       "      <td>103.735826</td>\n",
       "      <td>wet cold</td>\n",
       "    </tr>\n",
       "  </tbody>\n",
       "</table>\n",
       "</div>"
      ],
      "text/plain": [
       "     lat    lon         pr      netrad      evap    potevap         qr  \\\n",
       "0  82.75 -82.25  116.31531  115.680597   0.00000    0.00000   0.000000   \n",
       "1  82.75 -81.75  183.33421  109.368197  77.23199  186.63345  78.122990   \n",
       "2  82.75 -81.25  185.47101  163.255589  77.44580  188.38412  86.587296   \n",
       "3  82.75 -80.75  186.57018  133.387732  79.07652  183.37039  74.703705   \n",
       "4  82.75 -80.25  188.50586  107.377043  80.29123  173.71771  69.313614   \n",
       "\n",
       "         qtot    domain  \n",
       "0    0.000000  wet cold  \n",
       "1  100.953619  wet cold  \n",
       "2  103.959123  wet cold  \n",
       "3  103.137103  wet cold  \n",
       "4  103.735826  wet cold  "
      ]
     },
     "execution_count": 5,
     "metadata": {},
     "output_type": "execute_result"
    }
   ],
   "source": [
    "data_df = pd.read_csv(PROCESSED_DATA_FOLDER_PATH.joinpath(f\"gnann_data_{MODEL}.csv\"), index_col=False)\n",
    "data_df.head()"
   ]
  },
  {
   "cell_type": "markdown",
   "metadata": {},
   "source": [
    "## 1 to 1 metrics"
   ]
  },
  {
   "cell_type": "code",
   "execution_count": 16,
   "metadata": {},
   "outputs": [],
   "source": [
    "from scipy import stats\n",
    "from sklearn.feature_selection import mutual_info_regression"
   ]
  },
  {
   "cell_type": "markdown",
   "metadata": {},
   "source": [
    "### "
   ]
  },
  {
   "cell_type": "code",
   "execution_count": 23,
   "metadata": {},
   "outputs": [
    {
     "data": {
      "text/plain": [
       "PearsonRResult(statistic=0.3214771435567031, pvalue=0.0)"
      ]
     },
     "execution_count": 23,
     "metadata": {},
     "output_type": "execute_result"
    }
   ],
   "source": [
    "stats.pearsonr(data_df[\"pr\"], data_df[\"potevap\"])"
   ]
  },
  {
   "cell_type": "code",
   "execution_count": 15,
   "metadata": {},
   "outputs": [
    {
     "data": {
      "text/plain": [
       "SignificanceResult(statistic=0.23459031650794795, pvalue=0.0)"
      ]
     },
     "execution_count": 15,
     "metadata": {},
     "output_type": "execute_result"
    }
   ],
   "source": [
    "stats.spearmanr(data_df[\"pr\"], data_df[\"potevap\"])"
   ]
  },
  {
   "cell_type": "code",
   "execution_count": 19,
   "metadata": {},
   "outputs": [
    {
     "data": {
      "text/plain": [
       "LinregressResult(slope=0.20451924701725144, intercept=661.069560471054, rvalue=0.3214771435567032, pvalue=0.0, stderr=0.0023945191385510755, intercept_stderr=2.541334602836101)"
      ]
     },
     "execution_count": 19,
     "metadata": {},
     "output_type": "execute_result"
    }
   ],
   "source": [
    "stats.linregress(data_df[\"pr\"], data_df[\"potevap\"])"
   ]
  },
  {
   "cell_type": "code",
   "execution_count": 21,
   "metadata": {},
   "outputs": [
    {
     "data": {
      "text/plain": [
       "array([0.40136157])"
      ]
     },
     "execution_count": 21,
     "metadata": {},
     "output_type": "execute_result"
    }
   ],
   "source": [
    "mutual_info_regression(data_df[\"pr\"].values.reshape(-1, 1),\n",
    "                       data_df[\"potevap\"].values)"
   ]
  },
  {
   "cell_type": "code",
   "execution_count": null,
   "metadata": {},
   "outputs": [],
   "source": [
    "from typing import List\n",
    "\n",
    "\n",
    "def compute_scores(df: pd.DataFrame,\n",
    "                   input_cols: List[str],\n",
    "                   output_cols: List[str]) -> pd.DataFrame:\n",
    "    \"\"\"_summary_\n",
    "\n",
    "    Args:\n",
    "        df (pd.DataFrame): _description_\n",
    "        input_cols (List[str]): _description_\n",
    "        output_cols (List[str]): _description_\n",
    "\n",
    "    Returns:\n",
    "        pd.DataFrame: The different scores for the different combinations of inputs-outputs\n",
    "    \"\"\"\n",
    "\n",
    "\n",
    "    \n",
    "    return"
   ]
  },
  {
   "cell_type": "code",
   "execution_count": null,
   "metadata": {},
   "outputs": [],
   "source": [
    "\n"
   ]
  },
  {
   "cell_type": "code",
   "execution_count": null,
   "metadata": {},
   "outputs": [],
   "source": []
  },
  {
   "cell_type": "code",
   "execution_count": null,
   "metadata": {},
   "outputs": [],
   "source": []
  }
 ],
 "metadata": {
  "kernelspec": {
   "display_name": "master-thesis-U6WNLqtN-py3.11",
   "language": "python",
   "name": "python3"
  },
  "language_info": {
   "codemirror_mode": {
    "name": "ipython",
    "version": 3
   },
   "file_extension": ".py",
   "mimetype": "text/x-python",
   "name": "python",
   "nbconvert_exporter": "python",
   "pygments_lexer": "ipython3",
   "version": "3.11.4"
  }
 },
 "nbformat": 4,
 "nbformat_minor": 2
}
