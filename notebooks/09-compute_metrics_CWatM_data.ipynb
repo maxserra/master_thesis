{
 "cells": [
  {
   "cell_type": "markdown",
   "metadata": {},
   "source": [
    "# Compute metrics on CWatM data"
   ]
  },
  {
   "cell_type": "code",
   "execution_count": 1,
   "metadata": {},
   "outputs": [],
   "source": [
    "%load_ext autoreload\n",
    "%autoreload 2\n",
    "\n",
    "import sys\n",
    "sys.path.append(\"..\")\n",
    "\n",
    "from pathlib import Path\n",
    "\n",
    "from tqdm import tqdm\n",
    "import pandas as pd\n",
    "import dataframe_image as dfi\n",
    "import matplotlib.pyplot as plt\n",
    "\n",
    "import src.visualization.visualize as visualize\n",
    "import src.data.utils as utils\n",
    "from src.dependence_measures.compare import compute_bivariate_scores"
   ]
  },
  {
   "cell_type": "code",
   "execution_count": 10,
   "metadata": {},
   "outputs": [],
   "source": [
    "PROCESSED_DATA_FOLDER_PATH = Path(\"../data/processed\")\n",
    "\n",
    "INPUTS_COLUMNS = [\n",
    "    # \"porosity\",\n",
    "    # \"firstStorDepth\",\n",
    "    # \"percolationImp\",\n",
    "    # \"tanslope\",\n",
    "    # \"maxRootDepth_forest\",\n",
    "    # \"maxRootDepth_grassland\"\n",
    "]\n",
    "FORCINGS_COLUMNS = [\n",
    "    \"pr\",\n",
    "    \"tas\"\n",
    "]\n",
    "# OUTPUTS_COLUMNS = [\"evap-total\", \"potevap\", \"qr\", \"qtot\"]\n",
    "OUTPUTS_COLUMNS = [\n",
    "    \"evap-total\",\n",
    "    \"potevap\",\n",
    "    \"qr\",\n",
    "    \"qtot\"\n",
    "]"
   ]
  },
  {
   "cell_type": "markdown",
   "metadata": {},
   "source": [
    "## Load data"
   ]
  },
  {
   "cell_type": "code",
   "execution_count": 11,
   "metadata": {},
   "outputs": [],
   "source": [
    "all_land_df = pd.read_parquet(PROCESSED_DATA_FOLDER_PATH.joinpath(\"CWatM_data\", \"all_land.parquet\"))\n",
    "forcings_land_df = pd.read_parquet(PROCESSED_DATA_FOLDER_PATH.joinpath(\"CWatM_data\", \"forcings_land.parquet\"))\n",
    "outputs_land_df = pd.read_parquet(PROCESSED_DATA_FOLDER_PATH.joinpath(\"CWatM_data\", \"outputs_land.parquet\"))"
   ]
  },
  {
   "cell_type": "code",
   "execution_count": null,
   "metadata": {},
   "outputs": [],
   "source": [
    "data_df = pd.concat((all_land_df[INPUTS_COLUMNS], forcings_land_df[FORCINGS_COLUMNS], outputs_land_df[OUTPUTS_COLUMNS]), axis=1)\n",
    "data_df"
   ]
  },
  {
   "cell_type": "markdown",
   "metadata": {},
   "source": [
    "## Compute metrics"
   ]
  },
  {
   "cell_type": "code",
   "execution_count": null,
   "metadata": {},
   "outputs": [],
   "source": [
    "STORE_RESULTS = True\n",
    "LOAD_RESULTS = True\n",
    "\n",
    "# data_df = data_df.iloc[:1000]\n",
    "data_df.shape"
   ]
  },
  {
   "cell_type": "code",
   "execution_count": null,
   "metadata": {},
   "outputs": [],
   "source": []
  },
  {
   "cell_type": "code",
   "execution_count": null,
   "metadata": {},
   "outputs": [],
   "source": [
    "scores_df = compute_bivariate_scores(data_df,\n",
    "                                     input_cols=INPUTS_COLUMNS + FORCINGS_COLUMNS,\n",
    "                                     output_cols=OUTPUTS_COLUMNS,\n",
    "                                     dst_file_path=PROCESSED_DATA_FOLDER_PATH.joinpath(\"bivariate_metrics\", \"CWatM\", \"scores_all.csv\"),\n",
    "                                     return_all=True)"
   ]
  },
  {
   "cell_type": "code",
   "execution_count": null,
   "metadata": {},
   "outputs": [],
   "source": [
    "# if STORE_RESULTS:\n",
    "#     scores_df.to_csv(PROCESSED_DATA_FOLDER_PATH.joinpath(\"bivariate_metrics\", \"CWatM\", \"scores_all.csv\"))\n",
    "\n",
    "scores_df"
   ]
  },
  {
   "cell_type": "markdown",
   "metadata": {},
   "source": [
    "#### Compute baseline"
   ]
  },
  {
   "cell_type": "code",
   "execution_count": null,
   "metadata": {},
   "outputs": [],
   "source": [
    "# TODO: Update to new compute_bivariate_scores()\n",
    "\n",
    "# N_OF_SHUFFLES = 20\n",
    "\n",
    "# shuffle_scores_df_list = []\n",
    "\n",
    "# for _ in range(N_OF_SHUFFLES):\n",
    "#     shuffle_data_df = utils.shuffle_data(data_df)\n",
    "\n",
    "#     shuffle_scores_df = compute_bivariate_scores(shuffle_data_df, input_cols=INPUTS_COLUMNS, output_cols=OUTPUTS_COLUMNS)\n",
    "\n",
    "#     if STORE_RESULTS:\n",
    "#         import uuid\n",
    "        \n",
    "#         shuffle_scores_folder = PROCESSED_DATA_FOLDER_PATH.joinpath(\"bivariate_metrics\", \"CWatM\", \"shuffled_baseline\")\n",
    "#         shuffle_scores_df.to_csv(shuffle_scores_folder.joinpath(f\"scores_{uuid.uuid4()}.csv\"))\n",
    "\n",
    "#     shuffle_scores_df_list.append(shuffle_scores_df)"
   ]
  },
  {
   "cell_type": "code",
   "execution_count": null,
   "metadata": {},
   "outputs": [],
   "source": []
  },
  {
   "cell_type": "markdown",
   "metadata": {},
   "source": [
    "### Analyse results"
   ]
  },
  {
   "cell_type": "code",
   "execution_count": null,
   "metadata": {},
   "outputs": [],
   "source": [
    "if LOAD_RESULTS:\n",
    "    scores_df = pd.read_csv(PROCESSED_DATA_FOLDER_PATH.joinpath(\"bivariate_metrics\", \"CWatM\", \"scores_all.csv\"), index_col=[\"input\", \"output\"])\n",
    "\n",
    "scores_df"
   ]
  },
  {
   "cell_type": "code",
   "execution_count": null,
   "metadata": {},
   "outputs": [],
   "source": [
    "fig = visualize.plot_metric_values_and_rank(\n",
    "    scores_df=scores_df,\n",
    "    metrics=[\"pearson\", \"spearman\", \"mutual information (sklearn)\", \"normalized mutual information\", \"MIC\"],\n",
    "    sort_values_by=\"MIC\"\n",
    ")\n",
    "\n",
    "# if STORE_RESULTS:\n",
    "#     fig.savefig(\"../reports/figures/CWatM/metrics_values_and_rank.png\")"
   ]
  },
  {
   "cell_type": "code",
   "execution_count": null,
   "metadata": {},
   "outputs": [],
   "source": []
  }
 ],
 "metadata": {
  "kernelspec": {
   "display_name": "master-thesis-U6WNLqtN-py3.9",
   "language": "python",
   "name": "python3"
  },
  "language_info": {
   "codemirror_mode": {
    "name": "ipython",
    "version": 3
   },
   "file_extension": ".py",
   "mimetype": "text/x-python",
   "name": "python",
   "nbconvert_exporter": "python",
   "pygments_lexer": "ipython3",
   "version": "3.9.13"
  }
 },
 "nbformat": 4,
 "nbformat_minor": 2
}
