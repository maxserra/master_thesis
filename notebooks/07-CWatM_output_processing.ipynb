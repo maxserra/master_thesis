{
 "cells": [
  {
   "cell_type": "markdown",
   "metadata": {},
   "source": [
    "# CWatM output data"
   ]
  },
  {
   "cell_type": "code",
   "execution_count": null,
   "metadata": {},
   "outputs": [],
   "source": []
  },
  {
   "cell_type": "code",
   "execution_count": 1,
   "metadata": {},
   "outputs": [],
   "source": [
    "from pathlib import Path\n",
    "from functools import reduce\n",
    "import pandas as pd\n",
    "import xarray as xr\n",
    "from datetime import datetime as dt\n",
    "\n",
    "from isimip_client.client import ISIMIPClient"
   ]
  },
  {
   "cell_type": "code",
   "execution_count": 2,
   "metadata": {},
   "outputs": [],
   "source": [
    "RAW_CWATM_OUTPUT_FOLDER = Path(\"../data/raw/CWatM_output\")"
   ]
  },
  {
   "cell_type": "markdown",
   "metadata": {},
   "source": [
    "## Define function"
   ]
  },
  {
   "cell_type": "code",
   "execution_count": 3,
   "metadata": {},
   "outputs": [],
   "source": [
    "def download_process_merge_ISIMIP_output(variable,\n",
    "                                         flux_conversion_factor=None,\n",
    "                                         averaging_time=None):\n",
    "\n",
    "    client = ISIMIPClient()\n",
    "\n",
    "    # Search the ISIMIP repository using specifiers.\n",
    "    # Max's TIP: in data.isimip.org, use the \"Facets\" \"Sidebar view\" to ge the specifiers key and values\n",
    "    response = client.files(simulation_round=\"ISIMIP3a\",\n",
    "                            product=\"OutputData\",\n",
    "                            sector=\"water_global\",\n",
    "                            model=\"cwatm\",\n",
    "                            climate_scenario=\"obsclim\",\n",
    "                            time_step=\"monthly\",\n",
    "                            climate_forcing=\"gswp3-w5e5\",\n",
    "                            variable=variable\n",
    "                            )\n",
    "\n",
    "    # Download files\n",
    "    for result in response[\"results\"]:\n",
    "\n",
    "        file_name = result[\"name\"]\n",
    "        if \"monthly\" in file_name:\n",
    "\n",
    "            print(f\"Downloading file {file_name}\")\n",
    "            # Download file\n",
    "            client.download(result[\"file_url\"], path=RAW_CWATM_OUTPUT_FOLDER.joinpath(variable))\n",
    "\n",
    "        else:\n",
    "            print(f\"Skipping {file_name} due to none matching years\")\n",
    "\n",
    "    ## Process and merge files\n",
    "    files = RAW_CWATM_OUTPUT_FOLDER.joinpath(variable).glob(\"cwatm_gswp3-w5e5*.nc\")\n",
    "\n",
    "    data_sum_list = []\n",
    "    time_slice = slice(dt(1975, 1, 1), dt(2004, 12, 31))\n",
    "\n",
    "    for file in files:\n",
    "\n",
    "        print(f\"Processing file {file.name}\")\n",
    "\n",
    "        data = xr.open_dataset(file)\n",
    "        data_sliced = data.sel(time=time_slice)\n",
    "        if flux_conversion_factor is not None:\n",
    "            data_sliced = data_sliced * flux_conversion_factor\n",
    "        data_sum = data_sliced.sum(\"time\")\n",
    "\n",
    "        data_sum_list.append(data_sum)\n",
    "\n",
    "    print(\"Merging files\")\n",
    "    data_sum = reduce(lambda x, y: x + y, data_sum_list)\n",
    "\n",
    "    if averaging_time == \"day\":\n",
    "        time_slice_days = len(pd.date_range(start=dt(1975, 1, 1), end=dt(2004, 12, 31), freq=\"d\"))\n",
    "        data_mean = data_sum / time_slice_days\n",
    "\n",
    "        print(\"Storing 'mean_1975_2004.nc' file\")\n",
    "        data_mean.to_netcdf(RAW_CWATM_OUTPUT_FOLDER.joinpath(variable, \"mean_1975_2004.nc\"))\n",
    "    elif averaging_time == \"year\":\n",
    "        time_slice_years = len(pd.date_range(start=dt(1975, 1, 1), end=dt(2004, 12, 31), freq=\"YE\"))\n",
    "        data_mean = data_sum / time_slice_years\n",
    "\n",
    "        print(\"Storing 'mean_1975_2004.nc' file\")\n",
    "        data_mean.to_netcdf(RAW_CWATM_OUTPUT_FOLDER.joinpath(variable, \"mean_1975_2004.nc\"))\n",
    "    else:\n",
    "        print(\"Storing 'sum_1975_2004.nc' file\")\n",
    "        data_sum.to_netcdf(RAW_CWATM_OUTPUT_FOLDER.joinpath(variable, \"sum_1975_2004.nc\"))"
   ]
  },
  {
   "cell_type": "markdown",
   "metadata": {},
   "source": [
    "## Evapotranspiration"
   ]
  },
  {
   "cell_type": "code",
   "execution_count": null,
   "metadata": {},
   "outputs": [],
   "source": [
    "VARIABLE = \"evap\"\n",
    "\n",
    "download_process_merge_ISIMIP_output(VARIABLE,\n",
    "                                     flux_conversion_factor=86400*30, # Convert from kg/m²/s to mm/month\n",
    "                                     averaging_time=\"year\"\n",
    "                                     )"
   ]
  },
  {
   "cell_type": "markdown",
   "metadata": {},
   "source": [
    "## Potential Evapotranspiration"
   ]
  },
  {
   "cell_type": "code",
   "execution_count": null,
   "metadata": {},
   "outputs": [],
   "source": [
    "VARIABLE = \"potevap\"\n",
    "\n",
    "download_process_merge_ISIMIP_output(VARIABLE,\n",
    "                                     flux_conversion_factor=86400*30, # Convert from kg/m²/s to mm/month\n",
    "                                     averaging_time=\"year\"\n",
    "                                     )"
   ]
  },
  {
   "cell_type": "markdown",
   "metadata": {},
   "source": [
    "## Total groundwater recharge"
   ]
  },
  {
   "cell_type": "code",
   "execution_count": null,
   "metadata": {},
   "outputs": [],
   "source": [
    "VARIABLE = \"qr\"\n",
    "\n",
    "download_process_merge_ISIMIP_output(VARIABLE,\n",
    "                                     flux_conversion_factor=86400*30, # Convert from kg/m²/s to mm/month\n",
    "                                     averaging_time=\"year\"\n",
    "                                     )"
   ]
  },
  {
   "cell_type": "markdown",
   "metadata": {},
   "source": [
    "## Total Runoff"
   ]
  },
  {
   "cell_type": "code",
   "execution_count": null,
   "metadata": {},
   "outputs": [],
   "source": [
    "VARIABLE = \"qtot\"\n",
    "\n",
    "download_process_merge_ISIMIP_output(VARIABLE,\n",
    "                                     flux_conversion_factor=86400*30, # Convert from kg/m²/s to mm/month\n",
    "                                     averaging_time=\"year\"\n",
    "                                     )"
   ]
  },
  {
   "cell_type": "code",
   "execution_count": null,
   "metadata": {},
   "outputs": [],
   "source": []
  },
  {
   "cell_type": "markdown",
   "metadata": {},
   "source": [
    "# Merge outputs"
   ]
  },
  {
   "cell_type": "code",
   "execution_count": 8,
   "metadata": {},
   "outputs": [],
   "source": [
    "evap_mean = xr.open_dataset(RAW_CWATM_OUTPUT_FOLDER.joinpath(\"evap\", \"mean_1975_2004.nc\"))\n",
    "potevap_mean = xr.open_dataset(RAW_CWATM_OUTPUT_FOLDER.joinpath(\"potevap\", \"mean_1975_2004.nc\"))\n",
    "qr_mean = xr.open_dataset(RAW_CWATM_OUTPUT_FOLDER.joinpath(\"qr\", \"mean_1975_2004.nc\"))\n",
    "qtot_mean = xr.open_dataset(RAW_CWATM_OUTPUT_FOLDER.joinpath(\"qtot\", \"mean_1975_2004.nc\"))\n",
    "\n",
    "data_mean = xr.merge([evap_mean,\n",
    "                      potevap_mean,\n",
    "                      qr_mean,\n",
    "                      qtot_mean])\n",
    "\n",
    "data_mean.to_netcdf(Path(\"../data/processed/CWatM_data/outputs.nc\"))"
   ]
  },
  {
   "cell_type": "code",
   "execution_count": null,
   "metadata": {},
   "outputs": [],
   "source": []
  }
 ],
 "metadata": {
  "kernelspec": {
   "display_name": "master-thesis-U6WNLqtN-py3.9",
   "language": "python",
   "name": "python3"
  },
  "language_info": {
   "codemirror_mode": {
    "name": "ipython",
    "version": 3
   },
   "file_extension": ".py",
   "mimetype": "text/x-python",
   "name": "python",
   "nbconvert_exporter": "python",
   "pygments_lexer": "ipython3",
   "version": "3.9.13"
  }
 },
 "nbformat": 4,
 "nbformat_minor": 2
}
