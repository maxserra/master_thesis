{
 "cells": [
  {
   "cell_type": "markdown",
   "metadata": {},
   "source": [
    "# Compute metrics on toy data"
   ]
  },
  {
   "cell_type": "code",
   "execution_count": null,
   "metadata": {},
   "outputs": [],
   "source": [
    "%load_ext autoreload\n",
    "%autoreload 2\n",
    "\n",
    "import sys\n",
    "sys.path.append(\"..\")\n",
    "\n",
    "from pathlib import Path\n",
    "\n",
    "import pandas as pd\n",
    "\n",
    "from src.dependence_measures.compare import compute_bivariate_scores"
   ]
  },
  {
   "cell_type": "code",
   "execution_count": null,
   "metadata": {},
   "outputs": [],
   "source": [
    "PROCESSED_DATA_FOLDER_PATH = Path(\"../data/processed\")\n",
    "\n",
    "INPUTS_COLUMNS = [\"x_0\"]\n",
    "OUTPUTS_COLUMNS = [\"y\"]"
   ]
  },
  {
   "cell_type": "markdown",
   "metadata": {},
   "source": [
    "## Load noiseless toy data"
   ]
  },
  {
   "cell_type": "code",
   "execution_count": null,
   "metadata": {},
   "outputs": [],
   "source": [
    "data_df = pd.read_csv(PROCESSED_DATA_FOLDER_PATH.joinpath(\"toy_data\", \"noiseless\", \"cubic_500.csv\"), index_col=False)\n",
    "data_df.head()"
   ]
  },
  {
   "cell_type": "markdown",
   "metadata": {},
   "source": [
    "## Compute bi-variate metrics"
   ]
  },
  {
   "cell_type": "code",
   "execution_count": null,
   "metadata": {},
   "outputs": [],
   "source": [
    "compute_bivariate_scores(data_df, [\"0\"], [\"1\"])"
   ]
  },
  {
   "cell_type": "code",
   "execution_count": null,
   "metadata": {},
   "outputs": [],
   "source": [
    "def display_bivariate_scores(path_rglob):\n",
    "    scores_list = []\n",
    "\n",
    "    for file in sorted(path_rglob):\n",
    "\n",
    "        data_df = pd.read_csv(file, index_col=False)\n",
    "\n",
    "        scores_df = compute_bivariate_scores(data_df, [\"0\"], [\"1\"])\n",
    "        scores_df[\"file\"] = file.name\n",
    "        scores_df.set_index(\"file\", append=True, inplace=True)\n",
    "        scores_df = scores_df.reorder_levels([\"file\", 0, 1])\n",
    "\n",
    "        scores_list.append(scores_df)\n",
    "\n",
    "    scores_df = pd.concat(scores_list)\n",
    "    scores_df = scores_df.sort_index()\n",
    "\n",
    "    display(scores_df.style.background_gradient(cmap=\"OrRd\", axis=0))"
   ]
  },
  {
   "cell_type": "code",
   "execution_count": null,
   "metadata": {},
   "outputs": [],
   "source": [
    "display_bivariate_scores(PROCESSED_DATA_FOLDER_PATH.joinpath(\"toy_data\", \"noiseless\").rglob(\"*500.csv\"))"
   ]
  },
  {
   "cell_type": "code",
   "execution_count": null,
   "metadata": {},
   "outputs": [],
   "source": [
    "display_bivariate_scores(PROCESSED_DATA_FOLDER_PATH.joinpath(\"toy_data\", \"noisy\").rglob(\"*500.csv\"))"
   ]
  },
  {
   "cell_type": "code",
   "execution_count": null,
   "metadata": {},
   "outputs": [],
   "source": []
  },
  {
   "cell_type": "code",
   "execution_count": null,
   "metadata": {},
   "outputs": [],
   "source": []
  }
 ],
 "metadata": {
  "kernelspec": {
   "display_name": "master-thesis-U6WNLqtN-py3.11",
   "language": "python",
   "name": "python3"
  },
  "language_info": {
   "codemirror_mode": {
    "name": "ipython",
    "version": 3
   },
   "file_extension": ".py",
   "mimetype": "text/x-python",
   "name": "python",
   "nbconvert_exporter": "python",
   "pygments_lexer": "ipython3",
   "version": "3.9.13"
  }
 },
 "nbformat": 4,
 "nbformat_minor": 2
}
