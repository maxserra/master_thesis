{
 "cells": [
  {
   "cell_type": "markdown",
   "metadata": {},
   "source": [
    "# Compute metrics on toy data"
   ]
  },
  {
   "cell_type": "code",
   "execution_count": null,
   "metadata": {},
   "outputs": [],
   "source": [
    "%load_ext autoreload\n",
    "%autoreload 2\n",
    "\n",
    "import sys\n",
    "sys.path.append(\"..\")\n",
    "\n",
    "from pathlib import Path\n",
    "\n",
    "import pandas as pd\n",
    "\n",
    "from src.dependence_measures.compare import compute_bivariate_scores"
   ]
  },
  {
   "cell_type": "code",
   "execution_count": null,
   "metadata": {},
   "outputs": [],
   "source": [
    "PROCESSED_DATA_FOLDER_PATH = Path(\"../data/processed\")\n",
    "\n",
    "INPUTS_COLUMNS = [\"x_0\"]\n",
    "OUTPUTS_COLUMNS = [\"y\"]"
   ]
  },
  {
   "cell_type": "markdown",
   "metadata": {},
   "source": [
    "## Load noiseless toy data"
   ]
  },
  {
   "cell_type": "code",
   "execution_count": null,
   "metadata": {},
   "outputs": [],
   "source": [
    "data_df = pd.read_csv(PROCESSED_DATA_FOLDER_PATH.joinpath(\"toy_data\", \"noiseless\", \"cubic_500.csv\"), index_col=False)\n",
    "data_df.head()"
   ]
  },
  {
   "cell_type": "markdown",
   "metadata": {},
   "source": [
    "## Compute bi-variate metrics"
   ]
  },
  {
   "cell_type": "code",
   "execution_count": null,
   "metadata": {},
   "outputs": [],
   "source": [
    "compute_bivariate_scores(data_df, [\"0\"], [\"1\"])"
   ]
  },
  {
   "cell_type": "code",
   "execution_count": null,
   "metadata": {},
   "outputs": [],
   "source": [
    "scores_list = []\n",
    "\n",
    "for file in sorted(PROCESSED_DATA_FOLDER_PATH.joinpath(\"toy_data\", \"noiseless\").glob(\"*.csv\")):\n",
    "\n",
    "    data_df = pd.read_csv(file, index_col=False)\n",
    "\n",
    "    scores_df = compute_bivariate_scores(data_df, [\"0\"], [\"1\"])\n",
    "    scores_df[\"file\"] = file.name\n",
    "\n",
    "    scores_list.append(scores_df)\n",
    "\n",
    "scores_df = pd.concat(scores_list)"
   ]
  },
  {
   "cell_type": "code",
   "execution_count": null,
   "metadata": {},
   "outputs": [],
   "source": [
    "scores_df"
   ]
  },
  {
   "cell_type": "code",
   "execution_count": null,
   "metadata": {},
   "outputs": [],
   "source": []
  },
  {
   "cell_type": "code",
   "execution_count": null,
   "metadata": {},
   "outputs": [],
   "source": [
    "import numpy as np\n",
    "import math\n",
    "\n",
    "N_BINS = 9\n",
    "\n",
    "x = np.array(data_df[\"0\"])\n",
    "y = np.array(data_df[\"1\"])\n",
    "\n",
    "Pxy = np.histogram2d(x, y, bins=N_BINS)[0].T\n",
    "Pxy = Pxy / Pxy.sum()\n",
    "Px = Pxy.sum(axis=0)\n",
    "Py = Pxy.sum(axis=1)\n",
    "\n",
    "B = Pxy * (1 / np.sqrt(Px)) * (1 / np.sqrt(Py))\n",
    "\n",
    "B = np.nan_to_num(B, nan=0, posinf=0, neginf=0)\n",
    "\n",
    "U, S, V = np.linalg.svd(B)\n",
    "\n",
    "S[1]"
   ]
  },
  {
   "cell_type": "code",
   "execution_count": null,
   "metadata": {},
   "outputs": [],
   "source": [
    "type(B)"
   ]
  },
  {
   "cell_type": "code",
   "execution_count": null,
   "metadata": {},
   "outputs": [],
   "source": []
  },
  {
   "cell_type": "code",
   "execution_count": null,
   "metadata": {},
   "outputs": [],
   "source": []
  }
 ],
 "metadata": {
  "kernelspec": {
   "display_name": "master-thesis-U6WNLqtN-py3.11",
   "language": "python",
   "name": "python3"
  },
  "language_info": {
   "codemirror_mode": {
    "name": "ipython",
    "version": 3
   },
   "file_extension": ".py",
   "mimetype": "text/x-python",
   "name": "python",
   "nbconvert_exporter": "python",
   "pygments_lexer": "ipython3",
   "version": "3.9.13"
  }
 },
 "nbformat": 4,
 "nbformat_minor": 2
}
