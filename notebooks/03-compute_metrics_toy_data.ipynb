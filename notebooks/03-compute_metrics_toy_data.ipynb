{
 "cells": [
  {
   "cell_type": "markdown",
   "metadata": {},
   "source": [
    "# Compute metrics on toy data"
   ]
  },
  {
   "cell_type": "code",
   "execution_count": null,
   "metadata": {},
   "outputs": [],
   "source": [
    "%load_ext autoreload\n",
    "%autoreload 2\n",
    "\n",
    "import sys\n",
    "sys.path.append(\"..\")\n",
    "\n",
    "from pathlib import Path\n",
    "\n",
    "import pandas as pd\n",
    "import dataframe_image as dfi\n",
    "\n",
    "import src.visualization.visualize as visualize\n",
    "from src.dependence_measures.compare import (compute_bivariate_scores,\n",
    "                                             compute_bivariate_scores_on_file_generator)"
   ]
  },
  {
   "cell_type": "code",
   "execution_count": 5,
   "metadata": {},
   "outputs": [],
   "source": [
    "PROCESSED_DATA_FOLDER_PATH = Path(\"../data/processed\")\n",
    "\n",
    "INPUTS_COLUMNS = [\"x_0\"]\n",
    "OUTPUTS_COLUMNS = [\"y\"]"
   ]
  },
  {
   "cell_type": "markdown",
   "metadata": {},
   "source": [
    "## Load noiseless toy data"
   ]
  },
  {
   "cell_type": "code",
   "execution_count": null,
   "metadata": {},
   "outputs": [],
   "source": [
    "data_df = pd.read_csv(PROCESSED_DATA_FOLDER_PATH.joinpath(\"toy_data\", \"noiseless\", \"cubic_500.csv\"), index_col=False)\n",
    "data_df.head()"
   ]
  },
  {
   "cell_type": "markdown",
   "metadata": {},
   "source": [
    "## Compute bi-variate metrics"
   ]
  },
  {
   "cell_type": "code",
   "execution_count": null,
   "metadata": {},
   "outputs": [],
   "source": [
    "compute_bivariate_scores(data_df, [\"0\"], [\"1\"])"
   ]
  },
  {
   "cell_type": "code",
   "execution_count": 9,
   "metadata": {},
   "outputs": [],
   "source": []
  },
  {
   "cell_type": "markdown",
   "metadata": {},
   "source": [
    "## Noiseless"
   ]
  },
  {
   "cell_type": "code",
   "execution_count": null,
   "metadata": {},
   "outputs": [],
   "source": [
    "compute_bivariate_scores_on_file_generator(PROCESSED_DATA_FOLDER_PATH.joinpath(\"toy_data\", \"noiseless\").rglob(\"*200.csv\"))\n",
    "compute_bivariate_scores_on_file_generator(PROCESSED_DATA_FOLDER_PATH.joinpath(\"toy_data\", \"noiseless\").rglob(\"*500.csv\"))\n",
    "compute_bivariate_scores_on_file_generator(PROCESSED_DATA_FOLDER_PATH.joinpath(\"toy_data\", \"noiseless\").rglob(\"*1000.csv\"))"
   ]
  },
  {
   "cell_type": "code",
   "execution_count": null,
   "metadata": {},
   "outputs": [],
   "source": [
    "files_to_demo = [\n",
    "    \"linear_1000.csv\",\n",
    "    \"two_lines_1000.csv\",\n",
    "    \"line_and_parabola_up_1000.csv\",\n",
    "    \"non_coexistence_1000.csv\",\n",
    "    \"ellipse_1000.csv\",\n",
    "]\n",
    "\n",
    "df_styled, df = compute_bivariate_scores_on_file_generator(\n",
    "    [PROCESSED_DATA_FOLDER_PATH.joinpath(\"toy_data\", \"noiseless\", file) for file in files_to_demo]\n",
    ")\n",
    "\n",
    "dfi.export(df_styled, \"../reports/tables/toy_data/example_noiseless_1000.png\", dpi=300)\n",
    "\n",
    "fig = visualize.plot_metric_values_and_rank(\n",
    "    scores_df=df[[\"pearson\", \"spearman\", \"mutual information (sklearn)\", \"MIC\"]],\n",
    "    sort_values_by=\"MIC\"\n",
    ")\n",
    "\n",
    "fig.savefig(\"../reports/figures/toy_data/metrics_values_and_rank_noisless_1.png\")"
   ]
  },
  {
   "cell_type": "markdown",
   "metadata": {},
   "source": [
    "## Noisy data"
   ]
  },
  {
   "cell_type": "code",
   "execution_count": null,
   "metadata": {},
   "outputs": [],
   "source": [
    "compute_bivariate_scores_on_file_generator(PROCESSED_DATA_FOLDER_PATH.joinpath(\"toy_data\", \"noisy\").rglob(\"*200.csv\"))\n",
    "compute_bivariate_scores_on_file_generator(PROCESSED_DATA_FOLDER_PATH.joinpath(\"toy_data\", \"noisy\").rglob(\"*500.csv\"))\n",
    "compute_bivariate_scores_on_file_generator(PROCESSED_DATA_FOLDER_PATH.joinpath(\"toy_data\", \"noisy\").rglob(\"*1000.csv\"))"
   ]
  },
  {
   "cell_type": "markdown",
   "metadata": {},
   "source": [
    "### Examples"
   ]
  },
  {
   "cell_type": "code",
   "execution_count": null,
   "metadata": {},
   "outputs": [],
   "source": [
    "files_to_demo = [\n",
    "    \"linear_n1_heteroscedastic_1000.csv\",\n",
    "    \"linear_n2_heteroscedastic_1000.csv\",\n",
    "    \"two_lines_n1_heteroscedastic_1000.csv\",\n",
    "    \"two_lines_n2_heteroscedastic_1000.csv\",\n",
    "    \"line_and_parabola_down_n1_heteroscedastic_1000.csv\",\n",
    "    \"line_and_parabola_down_n2_heteroscedastic_1000.csv\",\n",
    "    \"line_and_parabola_up_n1_heteroscedastic_1000.csv\",\n",
    "    \"line_and_parabola_up_n2_heteroscedastic_1000.csv\",\n",
    "    \"non_coexistence_n1_1000.csv\",\n",
    "    \"non_coexistence_n2_1000.csv\",\n",
    "    \"ellipse_n1_1000.csv\",\n",
    "    \"ellipse_n2_1000.csv\",\n",
    "]\n",
    "\n",
    "compute_bivariate_scores_on_file_generator(\n",
    "    [PROCESSED_DATA_FOLDER_PATH.joinpath(\"toy_data\", \"noisy\", file) for file in files_to_demo]\n",
    ")"
   ]
  },
  {
   "cell_type": "code",
   "execution_count": null,
   "metadata": {},
   "outputs": [],
   "source": [
    "df_styled, df = compute_bivariate_scores_on_file_generator(\n",
    "    list(PROCESSED_DATA_FOLDER_PATH.joinpath(\"toy_data\").rglob(r\"*line_and_parabola_down*heteroscedastic_1000*\")) + \\\n",
    "    [PROCESSED_DATA_FOLDER_PATH.joinpath(\"toy_data\", \"noiseless\", \"line_and_parabola_down_1000.csv\")]\n",
    ")\n",
    "\n",
    "dfi.export(df_styled, \"../reports/tables/toy_data/example_line_and_parabola_down_1000.png\", dpi=300)\n",
    "\n",
    "fig = visualize.plot_metric_values_and_rank(\n",
    "    scores_df=df[[\"pearson\", \"spearman\", \"mutual information (sklearn)\", \"MIC\"]],\n",
    "    sort_values_by=\"MIC\"\n",
    ")\n",
    "\n",
    "fig.savefig(\"../reports/figures/toy_data/metrics_values_and_rank_noisy_1.png\")"
   ]
  },
  {
   "cell_type": "code",
   "execution_count": null,
   "metadata": {},
   "outputs": [],
   "source": [
    "df_styled, df = compute_bivariate_scores_on_file_generator(\n",
    "    list(PROCESSED_DATA_FOLDER_PATH.joinpath(\"toy_data\").rglob(r\"*line_and_parabola_up*heteroscedastic_1000*\")) + \\\n",
    "    [PROCESSED_DATA_FOLDER_PATH.joinpath(\"toy_data\", \"noiseless\", \"line_and_parabola_up_1000.csv\")]\n",
    ")\n",
    "\n",
    "dfi.export(df_styled, \"../reports/tables/toy_data/example_line_and_parabola_up_1000.png\", dpi=300)\n",
    "\n",
    "fig = visualize.plot_metric_values_and_rank(\n",
    "    scores_df=df[[\"pearson\", \"spearman\", \"mutual information (sklearn)\", \"MIC\"]],\n",
    "    sort_values_by=\"MIC\"\n",
    ")\n",
    "\n",
    "fig.savefig(\"../reports/figures/toy_data/metrics_values_and_rank_noisy_2.png\")"
   ]
  },
  {
   "cell_type": "code",
   "execution_count": null,
   "metadata": {},
   "outputs": [],
   "source": [
    "df_styled, df = compute_bivariate_scores_on_file_generator(\n",
    "    list(PROCESSED_DATA_FOLDER_PATH.joinpath(\"toy_data\").rglob(r\"*two_lines*heteroscedastic_1000*\")) + \\\n",
    "    [PROCESSED_DATA_FOLDER_PATH.joinpath(\"toy_data\", \"noiseless\", \"two_lines_1000.csv\")]\n",
    ")\n",
    "\n",
    "dfi.export(df_styled, \"../reports/tables/toy_data/example_two_lines_1000.png\", dpi=300)\n",
    "\n",
    "fig = visualize.plot_metric_values_and_rank(\n",
    "    scores_df=df[[\"pearson\", \"spearman\", \"mutual information (sklearn)\", \"MIC\"]],\n",
    "    sort_values_by=\"MIC\"\n",
    ")\n",
    "\n",
    "fig.savefig(\"../reports/figures/toy_data/metrics_values_and_rank_noisy_3.png\")"
   ]
  },
  {
   "cell_type": "code",
   "execution_count": null,
   "metadata": {},
   "outputs": [],
   "source": []
  }
 ],
 "metadata": {
  "kernelspec": {
   "display_name": "master-thesis-U6WNLqtN-py3.9",
   "language": "python",
   "name": "python3"
  },
  "language_info": {
   "codemirror_mode": {
    "name": "ipython",
    "version": 3
   },
   "file_extension": ".py",
   "mimetype": "text/x-python",
   "name": "python",
   "nbconvert_exporter": "python",
   "pygments_lexer": "ipython3",
   "version": "3.9.13"
  }
 },
 "nbformat": 4,
 "nbformat_minor": 2
}
