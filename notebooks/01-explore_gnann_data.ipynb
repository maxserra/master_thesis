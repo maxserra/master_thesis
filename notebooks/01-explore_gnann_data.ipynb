{
 "cells": [
  {
   "cell_type": "markdown",
   "metadata": {},
   "source": [
    "# Explore Gnann's paper data"
   ]
  },
  {
   "cell_type": "code",
   "execution_count": 1,
   "metadata": {},
   "outputs": [],
   "source": [
    "%load_ext autoreload\n",
    "%autoreload 2\n",
    "\n",
    "import sys\n",
    "sys.path.append(\"..\")\n",
    "\n",
    "from pathlib import Path\n",
    "from functools import reduce\n",
    "\n",
    "import pandas as pd\n",
    "\n",
    "from src.data import gnann_data\n",
    "from src.features import gnann_features"
   ]
  },
  {
   "cell_type": "code",
   "execution_count": 2,
   "metadata": {},
   "outputs": [],
   "source": [
    "RAW_DATA_FOLDER_PATH = Path(\"../data/raw/ISIMIP_2b_aggregated_variables\")\n",
    "PROCESSED_DATA_FOLDER_PATH = Path(\"../data/processed\")\n",
    "\n",
    "FORCINGS_FILES = [\"pr\", \"netrad_median\"]\n",
    "OUTPUTS_FILES = [\"evap\", \"potevap\", \"qr\", \"qtot\"]\n",
    "\n",
    "DOMAINS_FILE = [\"domains\"]\n",
    "DOMAINS_COLUMN_SOURCE = \"domain_days_below_1_0.08_aridity_netrad\"\n",
    "DOMAINS_COLUMN = \"domain\"\n",
    "\n",
    "MODEL = \"pcr-globwb\"\n",
    "\n",
    "FORCINGS_COLUMNS = [\"pr\", \"netrad\"]\n",
    "OUTPUTS_COLUMNS = [\"evap\", \"potevap\", \"qr\", \"qtot\"]"
   ]
  },
  {
   "cell_type": "markdown",
   "metadata": {},
   "source": [
    "## Load data for a model"
   ]
  },
  {
   "cell_type": "code",
   "execution_count": 3,
   "metadata": {},
   "outputs": [],
   "source": [
    "forcings_df = gnann_data.load_and_merge_geo_csv_to_df(data_path=RAW_DATA_FOLDER_PATH,\n",
    "                                                      files=FORCINGS_FILES)\n",
    "\n",
    "outputs_df = gnann_data.load_and_merge_geo_csv_to_df(data_path=RAW_DATA_FOLDER_PATH.joinpath(MODEL),\n",
    "                                                     files=OUTPUTS_FILES)\n",
    "\n",
    "domains_df = gnann_data.load_and_merge_geo_csv_to_df(data_path=RAW_DATA_FOLDER_PATH,\n",
    "                                                     files=DOMAINS_FILE,\n",
    "                                                     cols_to_keep=[DOMAINS_COLUMN_SOURCE])\n",
    "\n",
    "data_df = reduce(lambda x, y: pd.merge(left=x,\n",
    "                                       right=y,\n",
    "                                       how=\"inner\",\n",
    "                                       on=[\"lat\", \"lon\"]),\n",
    "                [forcings_df, outputs_df, domains_df])"
   ]
  },
  {
   "cell_type": "code",
   "execution_count": null,
   "metadata": {},
   "outputs": [],
   "source": [
    "data_df.head()"
   ]
  },
  {
   "cell_type": "code",
   "execution_count": null,
   "metadata": {},
   "outputs": [],
   "source": [
    "data_df = gnann_data.preprocess_data(df=data_df,\n",
    "                                     columns_renamer={DOMAINS_COLUMN_SOURCE: DOMAINS_COLUMN})\n",
    "data_df.head()"
   ]
  },
  {
   "cell_type": "code",
   "execution_count": 6,
   "metadata": {},
   "outputs": [],
   "source": [
    "data_df.to_csv(PROCESSED_DATA_FOLDER_PATH.joinpath(f\"gnann_data_{MODEL}.csv\"), index=False)"
   ]
  },
  {
   "cell_type": "markdown",
   "metadata": {},
   "source": [
    "## Visualize data"
   ]
  },
  {
   "cell_type": "code",
   "execution_count": null,
   "metadata": {},
   "outputs": [],
   "source": [
    "from src.visualization import visualize\n",
    "\n",
    "visualize.plot_scatter_with_dropdown(df=data_df,\n",
    "                                     default_x=\"pr\",\n",
    "                                     default_y=\"potevap\",\n",
    "                                     valid_x=FORCINGS_COLUMNS,\n",
    "                                     valid_y=OUTPUTS_COLUMNS)"
   ]
  },
  {
   "cell_type": "code",
   "execution_count": 25,
   "metadata": {},
   "outputs": [],
   "source": [
    "from itertools import product\n",
    "from tqdm import tqdm\n",
    "\n",
    "import matplotlib.pyplot as plt\n",
    "\n",
    "def display_individual_scatterplots(df,\n",
    "                                    dst_path: Path,\n",
    "                                    valid_x=FORCINGS_COLUMNS,\n",
    "                                    valid_y=OUTPUTS_COLUMNS,\n",
    "                                    ):\n",
    "\n",
    "    combinations = product(valid_x, valid_y)\n",
    "\n",
    "    for input_col, output_col in tqdm(list(combinations), desc=\"Computing input-output combinations\"):\n",
    "\n",
    "        fig, axis = plt.subplots(nrows=1, ncols=1, figsize=(8, 6))\n",
    "\n",
    "        # Assuming the DataFrame has 'x' and 'y' columns for the scatter plot\n",
    "        axis.scatter(df[input_col], df[output_col],\n",
    "                     alpha=0.2)\n",
    "        axis.set_title(f\"Input '{input_col}' - Output '{output_col}'\")\n",
    "        axis.set_xlabel(input_col)\n",
    "        axis.set_ylabel(output_col)\n",
    "\n",
    "        # Adjust layout and display the plots\n",
    "        plt.tight_layout()\n",
    "\n",
    "        fig.savefig(f\"../reports/figures/gnann_data/{input_col}_{output_col}.png\", dpi=300)\n"
   ]
  },
  {
   "cell_type": "code",
   "execution_count": null,
   "metadata": {},
   "outputs": [],
   "source": [
    "display_individual_scatterplots(df=data_df,\n",
    "                                dst_path=\"\")"
   ]
  },
  {
   "cell_type": "code",
   "execution_count": null,
   "metadata": {},
   "outputs": [],
   "source": []
  },
  {
   "cell_type": "code",
   "execution_count": null,
   "metadata": {},
   "outputs": [],
   "source": []
  },
  {
   "cell_type": "markdown",
   "metadata": {},
   "source": [
    "## EDA"
   ]
  },
  {
   "cell_type": "code",
   "execution_count": null,
   "metadata": {},
   "outputs": [],
   "source": [
    "import plotly.express as px"
   ]
  },
  {
   "cell_type": "code",
   "execution_count": null,
   "metadata": {},
   "outputs": [],
   "source": [
    "\n",
    "\n",
    "px.histogram(data_df[FORCINGS_COLUMNS + OUTPUTS_COLUMNS])"
   ]
  },
  {
   "cell_type": "code",
   "execution_count": null,
   "metadata": {},
   "outputs": [],
   "source": []
  }
 ],
 "metadata": {
  "kernelspec": {
   "display_name": "master-thesis-U6WNLqtN-py3.9",
   "language": "python",
   "name": "python3"
  },
  "language_info": {
   "codemirror_mode": {
    "name": "ipython",
    "version": 3
   },
   "file_extension": ".py",
   "mimetype": "text/x-python",
   "name": "python",
   "nbconvert_exporter": "python",
   "pygments_lexer": "ipython3",
   "version": "3.9.13"
  }
 },
 "nbformat": 4,
 "nbformat_minor": 2
}
