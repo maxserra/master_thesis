{
 "cells": [
  {
   "cell_type": "markdown",
   "metadata": {},
   "source": [
    "# Explore Gnann's paper data"
   ]
  },
  {
   "cell_type": "code",
   "execution_count": null,
   "metadata": {},
   "outputs": [],
   "source": [
    "%load_ext autoreload\n",
    "%autoreload 2\n",
    "\n",
    "import sys\n",
    "sys.path.append(\"..\")\n",
    "\n",
    "from pathlib import Path\n",
    "from functools import reduce\n",
    "\n",
    "import pandas as pd\n",
    "\n",
    "from src.data import gnann_data\n",
    "from src.features import gnann_features"
   ]
  },
  {
   "cell_type": "code",
   "execution_count": null,
   "metadata": {},
   "outputs": [],
   "source": [
    "RAW_DATA_FOLDER_PATH = Path(\"../data/raw/ISIMIP_2b_aggregated_variables\")\n",
    "PROCESSED_DATA_FOLDER_PATH = Path(\"../data/processed\")\n",
    "\n",
    "FORCINGS_FILES = [\"pr\", \"netrad_median\"]\n",
    "OUTPUTS_FILES = [\"evap\", \"potevap\", \"qr\", \"qtot\"]\n",
    "\n",
    "DOMAINS_FILE = [\"domains\"]\n",
    "DOMAINS_COLUMN_SOURCE = \"domain_days_below_1_0.08_aridity_netrad\"\n",
    "DOMAINS_COLUMN = \"domain\"\n",
    "\n",
    "MODEL = \"pcr-globwb\"\n",
    "\n",
    "FORCINGS_COLUMNS = [\"pr\", \"netrad\"]\n",
    "OUTPUTS_COLUMNS = [\"evap\", \"potevap\", \"qr\", \"qtot\"]"
   ]
  },
  {
   "cell_type": "markdown",
   "metadata": {},
   "source": [
    "## Load data for a model"
   ]
  },
  {
   "cell_type": "code",
   "execution_count": null,
   "metadata": {},
   "outputs": [],
   "source": [
    "forcings_df = gnann_data.load_and_merge_geo_csv_to_df(data_path=RAW_DATA_FOLDER_PATH,\n",
    "                                                      files=FORCINGS_FILES)\n",
    "\n",
    "outputs_df = gnann_data.load_and_merge_geo_csv_to_df(data_path=RAW_DATA_FOLDER_PATH.joinpath(MODEL),\n",
    "                                                     files=OUTPUTS_FILES)\n",
    "\n",
    "domains_df = gnann_data.load_and_merge_geo_csv_to_df(data_path=RAW_DATA_FOLDER_PATH,\n",
    "                                                     files=DOMAINS_FILE,\n",
    "                                                     cols_to_keep=[DOMAINS_COLUMN_SOURCE])\n",
    "\n",
    "data_df = reduce(lambda x, y: pd.merge(left=x,\n",
    "                                       right=y,\n",
    "                                       how=\"inner\",\n",
    "                                       on=[\"lat\", \"lon\"]),\n",
    "                [forcings_df, outputs_df, domains_df])"
   ]
  },
  {
   "cell_type": "code",
   "execution_count": null,
   "metadata": {},
   "outputs": [],
   "source": [
    "data_df.head()"
   ]
  },
  {
   "cell_type": "code",
   "execution_count": null,
   "metadata": {},
   "outputs": [],
   "source": [
    "data_df = gnann_features.preprocess_data(df=data_df,\n",
    "                                         columns_renamer={DOMAINS_COLUMN_SOURCE: DOMAINS_COLUMN})\n",
    "data_df.head()"
   ]
  },
  {
   "cell_type": "code",
   "execution_count": null,
   "metadata": {},
   "outputs": [],
   "source": [
    "data_df.to_csv(PROCESSED_DATA_FOLDER_PATH.joinpath(f\"gnann_data_{MODEL}.csv\"), index=False)"
   ]
  },
  {
   "cell_type": "markdown",
   "metadata": {},
   "source": [
    "## Visualize data"
   ]
  },
  {
   "cell_type": "code",
   "execution_count": null,
   "metadata": {},
   "outputs": [],
   "source": [
    "import plotly.express as px\n",
    "\n",
    "from src.visualization import visualize"
   ]
  },
  {
   "cell_type": "code",
   "execution_count": null,
   "metadata": {},
   "outputs": [],
   "source": [
    "visualize.plot_scatter_with_dropdown(df=data_df,\n",
    "                                     default_x=\"pr\",\n",
    "                                     default_y=\"evap\",\n",
    "                                     valid_x=FORCINGS_COLUMNS,\n",
    "                                     valid_y=OUTPUTS_COLUMNS)"
   ]
  },
  {
   "cell_type": "code",
   "execution_count": null,
   "metadata": {},
   "outputs": [],
   "source": [
    "px.scatter_matrix(data_frame=data_df[FORCINGS_COLUMNS + OUTPUTS_COLUMNS])"
   ]
  },
  {
   "cell_type": "markdown",
   "metadata": {},
   "source": [
    "## EDA"
   ]
  },
  {
   "cell_type": "code",
   "execution_count": null,
   "metadata": {},
   "outputs": [],
   "source": [
    "import plotly.express as px"
   ]
  },
  {
   "cell_type": "code",
   "execution_count": null,
   "metadata": {},
   "outputs": [],
   "source": [
    "\n",
    "\n",
    "px.histogram(data_df[FORCINGS_COLUMNS + OUTPUTS_COLUMNS])"
   ]
  },
  {
   "cell_type": "code",
   "execution_count": null,
   "metadata": {},
   "outputs": [],
   "source": []
  }
 ],
 "metadata": {
  "kernelspec": {
   "display_name": "master-thesis-U6WNLqtN-py3.11",
   "language": "python",
   "name": "python3"
  },
  "language_info": {
   "codemirror_mode": {
    "name": "ipython",
    "version": 3
   },
   "file_extension": ".py",
   "mimetype": "text/x-python",
   "name": "python",
   "nbconvert_exporter": "python",
   "pygments_lexer": "ipython3",
   "version": "3.11.4"
  }
 },
 "nbformat": 4,
 "nbformat_minor": 2
}
