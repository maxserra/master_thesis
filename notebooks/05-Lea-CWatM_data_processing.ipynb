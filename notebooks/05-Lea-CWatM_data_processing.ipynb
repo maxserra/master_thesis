{
  "cells": [
    {
      "cell_type": "code",
      "execution_count": 1,
      "metadata": {
        "colab": {
          "base_uri": "https://localhost:8080/"
        },
        "id": "l54GT8Ow_g38",
        "outputId": "fe047a2e-1e4c-48db-ea5f-0394012dd27d"
      },
      "outputs": [],
      "source": [
        "import numpy as np\n",
        "import pandas as pd\n",
        "import xarray as xr\n",
        "import glob\n",
        "from datetime import datetime as dt\n",
        "import cftime"
      ]
    },
    {
      "cell_type": "code",
      "execution_count": 2,
      "metadata": {
        "id": "bclaBVys_oJ2"
      },
      "outputs": [],
      "source": [
        "CWatM_DATA_PATH = \"../data/raw/CWatM_ISIMIP3_4Thorsten\"\n",
        "\n",
        "area = glob.glob(CWatM_DATA_PATH + \"/areamaps/*.nc\")\n",
        "\n",
        "gw = glob.glob(CWatM_DATA_PATH + \"/groundwater/*.nc\")\n",
        "\n",
        "lc_forest = glob.glob(CWatM_DATA_PATH + \"/landcover/forest/*.nc\")#time\n",
        "lc_grassland = glob.glob(CWatM_DATA_PATH + \"/landcover/grassland/*.nc\")#time\n",
        "lc_irrNonPaddy = glob.glob(CWatM_DATA_PATH + \"/landcover/irrNonPaddy/*.nc\")#time\n",
        "lc_irrPaddy = glob.glob(CWatM_DATA_PATH + \"/landcover/irrPaddy/*.nc\")#time\n",
        "\n",
        "ls = glob.glob(CWatM_DATA_PATH + \"/landsurface/*.nc\")#time\n",
        "ls_albedo = glob.glob(CWatM_DATA_PATH + \"/landsurface/albedo/*.nc\")#time\n",
        "ls_topo = glob.glob(CWatM_DATA_PATH + \"/landsurface/topo/*.nc\")\n",
        "ls_waterDemand = glob.glob(CWatM_DATA_PATH + \"/landsurface/waterDemand/*.nc\")#times\n",
        "\n",
        "r = glob.glob(CWatM_DATA_PATH + \"/routing/*.nc\") # time\n",
        "r_kinematic = glob.glob(CWatM_DATA_PATH + \"/routing/kinematic/*.nc\")#time\n",
        "r_lakesreservoirs = glob.glob(CWatM_DATA_PATH + \"/routing/lakesreservoirs/*.nc\")#time\n",
        "\n",
        "soil = glob.glob(CWatM_DATA_PATH + \"/soil/*.nc\")"
      ]
    },
    {
      "cell_type": "code",
      "execution_count": 3,
      "metadata": {
        "id": "ddIJKRC0_sXW"
      },
      "outputs": [],
      "source": [
        "sonst = area + gw + soil + ls_topo\n",
        "lcs = lc_forest + lc_grassland + lc_irrNonPaddy + lc_irrPaddy\n",
        "ls_oWD = ls + ls_albedo\n",
        "#ls_waterDemand\n",
        "rs = r + r_kinematic + r_lakesreservoirs"
      ]
    },
    {
      "cell_type": "code",
      "execution_count": null,
      "metadata": {
        "colab": {
          "base_uri": "https://localhost:8080/",
          "height": 298
        },
        "id": "5EgTjiN2Af0p",
        "outputId": "33139797-10d8-49e9-d9ab-f3e0542aa16b"
      },
      "outputs": [],
      "source": [
        "#sonst\n",
        "ds_sonstiges = xr.merge([xr.open_dataset(i) for i in sonst])\n",
        "ds_sonstiges"
      ]
    },
    {
      "cell_type": "code",
      "execution_count": null,
      "metadata": {
        "colab": {
          "base_uri": "https://localhost:8080/",
          "height": 249
        },
        "id": "thUNThI5Ao-x",
        "outputId": "63f4dfdd-6d75-4d2e-c75a-8931a7d445b8"
      },
      "outputs": [],
      "source": [
        "#lcs\n",
        "ds_lc_forest = xr.merge([xr.open_dataset(i) for i in lc_forest])\n",
        "df_lc_forest = ds_lc_forest.to_dataframe()\n",
        "df_lc_forest.rename(columns=lambda x: x + '_forest', inplace=True)\n",
        "ds_lc_grassland = xr.merge([xr.open_dataset(i) for i in lc_grassland])\n",
        "df_lc_grassland = ds_lc_forest.to_dataframe()\n",
        "df_lc_grassland.rename(columns=lambda x: x + '_grassland', inplace=True)\n",
        "ds_lc_irrNonPaddy = xr.merge([xr.open_dataset(i) for i in lc_irrNonPaddy])\n",
        "df_lc_irrNonPaddy = ds_lc_forest.to_dataframe()\n",
        "df_lc_irrNonPaddy.rename(columns=lambda x: x + '_irrNonPaddy', inplace=True)\n",
        "ds_lc_irrPaddy = xr.merge([xr.open_dataset(i) for i in lc_irrPaddy])\n",
        "df_lc_irrPaddy = ds_lc_forest.to_dataframe()\n",
        "df_lc_irrPaddy.rename(columns=lambda x: x + '_irrPaddy', inplace=True)\n",
        "df_lc = pd.concat([df_lc_forest, df_lc_grassland, df_lc_irrNonPaddy, df_lc_irrPaddy], axis=1)\n",
        "ds_lc = df_lc.to_xarray()\n",
        "ds_lc"
      ]
    },
    {
      "cell_type": "code",
      "execution_count": null,
      "metadata": {
        "colab": {
          "base_uri": "https://localhost:8080/"
        },
        "id": "ql8Gg8rITOTG",
        "outputId": "c95c90c6-bc16-4cca-a521-5d9d315a5ea9"
      },
      "outputs": [],
      "source": [
        "ds_lc_resampled = ds_lc.resample(time=\"1Y\").sum()\n",
        "ds_lc_resampled_mean = ds_lc_resampled.mean(\"time\")"
      ]
    },
    {
      "cell_type": "code",
      "execution_count": null,
      "metadata": {
        "colab": {
          "base_uri": "https://localhost:8080/",
          "height": 577
        },
        "id": "K_GA_VQEBnGD",
        "outputId": "951e22ed-06cc-439f-918a-da781bc4a78c"
      },
      "outputs": [],
      "source": [
        "#ls_oWD\n",
        "ds_ls_oWD =  xr.merge([xr.open_dataset(i) for i in ls_oWD])\n",
        "ds_ls_oWD"
      ]
    },
    {
      "cell_type": "code",
      "execution_count": null,
      "metadata": {
        "colab": {
          "base_uri": "https://localhost:8080/"
        },
        "id": "g2xYonbDVf-Y",
        "outputId": "2d5b9ce6-ec0f-401c-9816-9a1314139055"
      },
      "outputs": [],
      "source": [
        "ds_ls_oWD_resampled = ds_ls_oWD.resample(time=\"1Y\").sum()\n",
        "ds_ls_oWD_timeslice = ds_ls_oWD_resampled.sel(time=slice(dt(1975, 1, 1), dt(2004, 12, 31)))\n",
        "ds_ls_oWD_mean = ds_ls_oWD_timeslice.mean(\"time\")"
      ]
    },
    {
      "cell_type": "code",
      "execution_count": null,
      "metadata": {},
      "outputs": [],
      "source": [
        "sorted(ls_waterDemand)"
      ]
    },
    {
      "cell_type": "code",
      "execution_count": null,
      "metadata": {
        "colab": {
          "base_uri": "https://localhost:8080/",
          "height": 354
        },
        "id": "w8-NF93QBvSh",
        "outputId": "2c03ccd0-efd9-40a2-d006-c044fcf4e874"
      },
      "outputs": [],
      "source": [
        "#ls_waterDemand\n",
        "ds_ls_wD_times = xr.merge([xr.open_dataset(sorted(ls_waterDemand)[i], decode_times=False) for i in [0, 2, 4]])\n",
        "\n",
        "time = ds_ls_oWD.get_index('time')\n",
        "t1 = time[0:151]\n",
        "t2 = time[162:]\n",
        "time_yearly = np.concatenate((t1, t2))\n",
        "\n",
        "df_ls_wD_times = ds_ls_wD_times.to_dataframe()\n",
        "idx = df_ls_wD_times.index\n",
        "nidx = idx.set_levels(time_yearly, level = 'time')\n",
        "df_ls_wD_times.index = nidx\n",
        "ds_ls_wD_times_corr = df_ls_wD_times.to_xarray()\n",
        "ds_ls_wD_times_corr"
      ]
    },
    {
      "cell_type": "code",
      "execution_count": null,
      "metadata": {
        "colab": {
          "base_uri": "https://localhost:8080/"
        },
        "id": "nChz0DLIV6Lu",
        "outputId": "bd7d27e9-16f4-4e3d-951e-3cb712eeaef8"
      },
      "outputs": [],
      "source": [
        "ds_ls_wD_times_corr_resampled = ds_ls_wD_times_corr.resample(time=\"1Y\").sum()\n",
        "ds_ls_wD_times_corr_timeslice = ds_ls_wD_times_corr_resampled.sel(time=slice(dt(1975, 1, 1), dt(2004, 12, 31)))\n",
        "ds_ls_wD_times_corr_mean = ds_ls_wD_times_corr_timeslice.mean(\"time\")"
      ]
    },
    {
      "cell_type": "code",
      "execution_count": null,
      "metadata": {},
      "outputs": [],
      "source": [
        "sorted(ls_waterDemand)"
      ]
    },
    {
      "cell_type": "code",
      "execution_count": null,
      "metadata": {
        "colab": {
          "base_uri": "https://localhost:8080/",
          "height": 482
        },
        "id": "bvtCa9-aEL-7",
        "outputId": "03c515b4-167a-415d-de6d-8cbc4937a553"
      },
      "outputs": [],
      "source": [
        "ds_ls_wD_times2 = xr.merge([xr.open_dataset(sorted(ls_waterDemand)[i]) for i in [1, 3]])\n",
        "ds_ls_wD_times2"
      ]
    },
    {
      "cell_type": "code",
      "execution_count": null,
      "metadata": {
        "colab": {
          "base_uri": "https://localhost:8080/"
        },
        "id": "N-1cN8bFWG_r",
        "outputId": "5014bb25-7920-4367-cd7c-4a769b6adaf0"
      },
      "outputs": [],
      "source": [
        "ds_ls_wD_times2_resampled = ds_ls_wD_times2.resample(time=\"1Y\").sum()\n",
        "ds_ls_wD_times2_timeslice = ds_ls_wD_times2_resampled.sel(time=slice(dt(1975, 1, 1), dt(2004, 12, 31)))\n",
        "ds_ls_wD_times2_mean = ds_ls_wD_times2_timeslice.mean(\"time\")"
      ]
    },
    {
      "cell_type": "code",
      "execution_count": null,
      "metadata": {},
      "outputs": [],
      "source": [
        "sorted(rs)"
      ]
    },
    {
      "cell_type": "code",
      "execution_count": null,
      "metadata": {
        "colab": {
          "base_uri": "https://localhost:8080/",
          "height": 228
        },
        "id": "asT40u3-Ealf",
        "outputId": "258a8504-707a-4dd5-e897-22adf088cfce"
      },
      "outputs": [],
      "source": [
        "#rs\n",
        "ds_routing0 = xr.open_dataset(sorted(rs)[0])\n",
        "df_routing0 = ds_routing0.to_dataframe()\n",
        "ds_routing0 = df_routing0.to_xarray()\n",
        "ds_routing_notimes1 = xr.merge([xr.open_dataset(i) for i in sorted(rs)[1:13]])\n",
        "ds_routing_notimes2 = xr.merge([xr.open_dataset(i) for i in sorted(rs)[14:]])\n",
        "ds_routing_notimes = xr.merge([ds_routing0, ds_routing_notimes1, ds_routing_notimes2])\n",
        "ds_routing_notimes"
      ]
    },
    {
      "cell_type": "code",
      "execution_count": null,
      "metadata": {
        "colab": {
          "base_uri": "https://localhost:8080/",
          "height": 430
        },
        "id": "WBrS835QHUSt",
        "outputId": "807cbb78-2361-4c9d-91e7-f9793e811e99"
      },
      "outputs": [],
      "source": [
        "ds_routing_times = xr.open_dataset(sorted(rs)[13])\n",
        "ds_routing_times"
      ]
    },
    {
      "cell_type": "code",
      "execution_count": null,
      "metadata": {
        "colab": {
          "base_uri": "https://localhost:8080/"
        },
        "id": "eEnxwQqcWwBd",
        "outputId": "febc98b0-d6a3-4913-fcdb-cc318560113e"
      },
      "outputs": [],
      "source": [
        "ds_routing_times_resampled = ds_routing_times.resample(time=\"1Y\").sum()\n",
        "ds_routing_times_timeslice = ds_routing_times_resampled.sel(time=slice(dt(1975, 1, 1), dt(2004, 12, 31)))\n",
        "ds_routing_times_mean = ds_routing_times_timeslice.mean(\"time\")"
      ]
    },
    {
      "cell_type": "code",
      "execution_count": null,
      "metadata": {
        "colab": {
          "base_uri": "https://localhost:8080/",
          "height": 298
        },
        "id": "hdRVp3ENGGBn",
        "outputId": "47b417c5-b628-4127-ea44-81e64c6279ad"
      },
      "outputs": [],
      "source": [
        "#all variables without time\n",
        "ds_all = xr.merge([ds_sonstiges, ds_lc_resampled_mean, ds_ls_oWD_mean, ds_ls_wD_times_corr_mean, ds_ls_wD_times2_mean, ds_routing_notimes, ds_routing_times_mean])\n",
        "ds_all"
      ]
    },
    {
      "cell_type": "code",
      "execution_count": 21,
      "metadata": {
        "id": "1uv-U-6OSw-O"
      },
      "outputs": [],
      "source": [
        "ds_all.to_netcdf(\"../data/processed/CWatM_data/all.nc\")"
      ]
    },
    {
      "cell_type": "code",
      "execution_count": null,
      "metadata": {},
      "outputs": [],
      "source": []
    }
  ],
  "metadata": {
    "colab": {
      "provenance": []
    },
    "kernelspec": {
      "display_name": "master-thesis-U6WNLqtN-py3.9",
      "language": "python",
      "name": "python3"
    },
    "language_info": {
      "codemirror_mode": {
        "name": "ipython",
        "version": 3
      },
      "file_extension": ".py",
      "mimetype": "text/x-python",
      "name": "python",
      "nbconvert_exporter": "python",
      "pygments_lexer": "ipython3",
      "version": "3.9.13"
    }
  },
  "nbformat": 4,
  "nbformat_minor": 0
}
