{
 "cells": [
  {
   "cell_type": "code",
   "execution_count": null,
   "metadata": {},
   "outputs": [],
   "source": []
  },
  {
   "cell_type": "code",
   "execution_count": 1,
   "metadata": {},
   "outputs": [],
   "source": [
    "%load_ext autoreload\n",
    "%autoreload 2\n",
    "\n",
    "import sys\n",
    "sys.path.append(\"..\")\n",
    "\n",
    "from pathlib import Path\n",
    "\n",
    "import numpy as np\n",
    "import pandas as pd\n",
    "import matplotlib.pyplot as plt\n",
    "\n",
    "from src.models.divisive_clustering import DivisiveHierarchicalClustering"
   ]
  },
  {
   "cell_type": "markdown",
   "metadata": {},
   "source": [
    "## Try out the building blocks"
   ]
  },
  {
   "cell_type": "code",
   "execution_count": null,
   "metadata": {},
   "outputs": [],
   "source": [
    "data_df = pd.read_csv(Path(\"../data\").joinpath(\"processed\", \"toy_data\", \"noisy\", \"line_and_parabola_down_n1_heteroscedastic_1000.csv\"), index_col=False)\n",
    "# data_df = pd.read_csv(Path(\"../data\").joinpath(\"processed\", \"toy_data\", \"noiseless\", \"two_lines_1000.csv\"), index_col=False)\n",
    "plt.scatter(data_df[\"0\"], data_df[\"1\"])\n",
    "\n",
    "# Example input data\n",
    "X = data_df[\"0\"].to_numpy().reshape(-1, 1)\n",
    "Y = data_df[\"1\"].to_numpy().reshape(-1, 1)"
   ]
  },
  {
   "cell_type": "code",
   "execution_count": null,
   "metadata": {},
   "outputs": [],
   "source": [
    "# Initialize the clustering class\n",
    "dhc = DivisiveHierarchicalClustering(X, Y, min_cluster_size=100, split_method='partitioning', max_depth=2)\n",
    "\n",
    "split_result = dhc.split_cluster(X, Y)\n",
    "\n",
    "n_samples = X.shape[0]\n",
    "indices = np.arange(n_samples)\n"
   ]
  },
  {
   "cell_type": "code",
   "execution_count": null,
   "metadata": {},
   "outputs": [],
   "source": [
    "len(split_result)"
   ]
  },
  {
   "cell_type": "code",
   "execution_count": null,
   "metadata": {},
   "outputs": [],
   "source": [
    "for result in split_result:\n",
    "\n",
    "    labels = result['labels']\n",
    "    # Split indices based on labels\n",
    "    indices_left = indices[labels == 0]\n",
    "    indices_right = indices[labels == 1]\n",
    "\n",
    "    clusters = [\n",
    "        {\n",
    "            'indices': indices_left,\n",
    "            'depth': 1,\n",
    "            'dependence_measure': 1\n",
    "        },\n",
    "        {\n",
    "            'indices': indices_right,\n",
    "            'depth': 1,\n",
    "            'dependence_measure': 1\n",
    "        }\n",
    "    ]\n",
    "\n",
    "    # Plotting the clusters\n",
    "    colors = plt.cm.tab10.colors\n",
    "    plt.figure(figsize=(4, 3))\n",
    "\n",
    "    for idx, cluster in enumerate(clusters):\n",
    "        cluster_indices = cluster['indices']\n",
    "        plt.scatter(X[cluster_indices], Y[cluster_indices], color=colors[idx % 10], label=f'Cluster {idx}')\n",
    "\n",
    "    plt.xlabel('Input Variable X')\n",
    "    plt.ylabel('Output Variable Y')\n",
    "    plt.title('Divisive Hierarchical Clustering Results')\n",
    "    plt.legend()\n",
    "    plt.show()"
   ]
  },
  {
   "cell_type": "code",
   "execution_count": null,
   "metadata": {},
   "outputs": [],
   "source": []
  },
  {
   "cell_type": "code",
   "execution_count": null,
   "metadata": {},
   "outputs": [],
   "source": []
  },
  {
   "cell_type": "markdown",
   "metadata": {},
   "source": [
    "## Apply on basic data"
   ]
  },
  {
   "cell_type": "code",
   "execution_count": null,
   "metadata": {},
   "outputs": [],
   "source": [
    "# Example input data\n",
    "np.random.seed(42)\n",
    "n_samples = 1000\n",
    "\n",
    "X = np.random.rand(n_samples).reshape(-1, 1)\n",
    "# X = np.random.rand(n_samples, 2)  # Two input features\n",
    "# Create outputs that depend on inputs\n",
    "Y = 2 * X + np.random.randn(n_samples, 1) * 0.1  # Linear relationship with noise\n",
    "# Y = np.zeros((n_samples, 2))\n",
    "# Y[:, 0] = 2 * X[:, 0] + np.random.randn(n_samples) * 0.1  # Output 1 depends on Input 1\n",
    "# Y[:, 1] = -3 * X[:, 1] + np.random.randn(n_samples) * 0.1  # Output 2 depends on Input 2\n",
    "\n",
    "# Initialize the clustering class\n",
    "dhc = DivisiveHierarchicalClustering(X, Y, min_cluster_size=100, split_method='partitioning', max_depth=3)\n",
    "\n",
    "# Fit the model\n",
    "dhc.fit()\n",
    "\n",
    "# Retrieve the clusters\n",
    "clusters = dhc.get_clusters()\n",
    "\n",
    "# Print cluster information\n",
    "for i, cluster in enumerate(clusters):\n",
    "    indices = cluster['indices']\n",
    "    depth = cluster['depth']\n",
    "    mic_metrics = cluster['mic_metrics'][0][\"MIC\"]\n",
    "    print(f\"Cluster {i}: Depth {depth}, Samples {len(indices)}, MIC {mic_metrics:.2f}\")"
   ]
  },
  {
   "cell_type": "code",
   "execution_count": null,
   "metadata": {},
   "outputs": [],
   "source": [
    "# Plotting the clusters\n",
    "colors = plt.cm.tab10.colors\n",
    "plt.figure(figsize=(8, 6))\n",
    "\n",
    "for idx, cluster in enumerate(clusters):\n",
    "    indices = cluster['indices']\n",
    "    plt.scatter(X[indices], Y[indices], color=colors[idx % 10], label=f'Cluster {idx}')\n",
    "\n",
    "plt.xlabel('Input Variable X')\n",
    "plt.ylabel('Output Variable Y')\n",
    "plt.title('Divisive Hierarchical Clustering Results')\n",
    "plt.legend()\n",
    "plt.show()"
   ]
  },
  {
   "cell_type": "markdown",
   "metadata": {},
   "source": [
    "## Apply on toy data"
   ]
  },
  {
   "cell_type": "code",
   "execution_count": null,
   "metadata": {},
   "outputs": [],
   "source": [
    "data_df = pd.read_csv(Path(\"../data\").joinpath(\"processed\", \"toy_data\", \"noisy\", \"line_and_parabola_up_n1_heteroscedastic_1000.csv\"), index_col=False)\n",
    "# data_df = pd.read_csv(Path(\"../data\").joinpath(\"processed\", \"toy_data\", \"noiseless\", \"two_lines_1000.csv\"), index_col=False)\n",
    "plt.scatter(data_df[\"0\"], data_df[\"1\"])"
   ]
  },
  {
   "cell_type": "code",
   "execution_count": null,
   "metadata": {},
   "outputs": [],
   "source": []
  },
  {
   "cell_type": "code",
   "execution_count": null,
   "metadata": {},
   "outputs": [],
   "source": [
    "# Example input data\n",
    "np.random.seed(22)\n",
    "X = data_df[\"0\"].to_numpy().reshape(-1, 1)\n",
    "Y = data_df[\"1\"].to_numpy().reshape(-1, 1)\n",
    "\n",
    "# Initialize the clustering class\n",
    "dhc = DivisiveHierarchicalClustering(X, Y, min_cluster_size=100, split_method='partitioning', max_depth=2)\n",
    "\n",
    "# Fit the model\n",
    "dhc.fit()\n",
    "\n",
    "# Retrieve the clusters\n",
    "clusters = dhc.get_clusters()\n",
    "\n",
    "# Print cluster information\n",
    "for i, cluster in enumerate(clusters):\n",
    "    indices = cluster['indices']\n",
    "    depth = cluster['depth']\n",
    "    mic_metrics = cluster['mic_metrics'][0][\"MIC\"]\n",
    "    print(f\"Cluster {i}: Depth {depth}, Samples {len(indices)}, MIC {mic_metrics:.2f}\")"
   ]
  },
  {
   "cell_type": "code",
   "execution_count": null,
   "metadata": {},
   "outputs": [],
   "source": [
    "# Plotting the clusters\n",
    "colors = plt.cm.tab10.colors\n",
    "plt.figure(figsize=(8, 6))\n",
    "\n",
    "for idx, cluster in enumerate(clusters):\n",
    "    indices = cluster['indices']\n",
    "    plt.scatter(X[indices], Y[indices], color=colors[idx % 10], label=f'Cluster {idx}')\n",
    "\n",
    "plt.xlabel('Input Variable X')\n",
    "plt.ylabel('Output Variable Y')\n",
    "plt.title('Divisive Hierarchical Clustering Results')\n",
    "plt.legend()\n",
    "plt.show()"
   ]
  },
  {
   "cell_type": "code",
   "execution_count": null,
   "metadata": {},
   "outputs": [],
   "source": []
  },
  {
   "cell_type": "code",
   "execution_count": null,
   "metadata": {},
   "outputs": [],
   "source": []
  }
 ],
 "metadata": {
  "kernelspec": {
   "display_name": "master-thesis-U6WNLqtN-py3.9",
   "language": "python",
   "name": "python3"
  },
  "language_info": {
   "codemirror_mode": {
    "name": "ipython",
    "version": 3
   },
   "file_extension": ".py",
   "mimetype": "text/x-python",
   "name": "python",
   "nbconvert_exporter": "python",
   "pygments_lexer": "ipython3",
   "version": "3.9.13"
  }
 },
 "nbformat": 4,
 "nbformat_minor": 2
}
