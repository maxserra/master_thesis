{
 "cells": [
  {
   "cell_type": "markdown",
   "metadata": {},
   "source": [
    "# Generate toy data\n",
    "\n",
    "To start, I will work with the following toy data generating processes:\n",
    "1. Linear\n",
    "2. Monotonous:\n",
    "    1. Logarithmic\n",
    "    2. Step function\n",
    "3. Periodic:\n",
    "    1. Sinus\n",
    "    2. Sinc\n",
    "\n",
    "All the above will be used in two different modes:\n",
    "    - Large SNR (singal to noise ratio)\n",
    "    - Small SNR"
   ]
  },
  {
   "cell_type": "code",
   "execution_count": null,
   "metadata": {},
   "outputs": [],
   "source": [
    "%load_ext autoreload\n",
    "%autoreload 2\n",
    "\n",
    "import sys\n",
    "sys.path.append(\"..\")\n",
    "\n",
    "from pathlib import Path\n",
    "\n",
    "import numpy as np\n",
    "import pandas as pd\n",
    "from sklearn.datasets import make_regression\n",
    "\n",
    "import src.data.make_toy_data as make_toy_data\n",
    "import src.dependence_measures.bivariate as bivariate\n",
    "from src.visualization.visualize import plot_scatter_with_dropdown"
   ]
  },
  {
   "cell_type": "code",
   "execution_count": null,
   "metadata": {},
   "outputs": [],
   "source": [
    "PROCESSED_DATA_FOLDER_PATH = Path(\"../data/processed\")\n",
    "PROCESSED_DATA_FOLDER_PATH.joinpath(\"toy_data\").mkdir(exist_ok=True)\n",
    "\n",
    "N_SAMPLES = 500"
   ]
  },
  {
   "cell_type": "markdown",
   "metadata": {},
   "source": [
    "## Noiseless"
   ]
  },
  {
   "cell_type": "code",
   "execution_count": null,
   "metadata": {},
   "outputs": [],
   "source": [
    "PROCESSED_DATA_FOLDER_PATH.joinpath(\"toy_data\", \"noiseless\").mkdir(exist_ok=True)"
   ]
  },
  {
   "cell_type": "code",
   "execution_count": null,
   "metadata": {},
   "outputs": [],
   "source": [
    "random_toy_data = make_toy_data.random_unit_box(n_samples=N_SAMPLES)\n",
    "pd.DataFrame(random_toy_data).to_csv(PROCESSED_DATA_FOLDER_PATH.joinpath(\"toy_data\", \"noiseless\", f\"random_{N_SAMPLES}.csv\"), index=False)\n",
    "\n",
    "plot_scatter_with_dropdown(pd.DataFrame(random_toy_data), 0, 1, layout_width=540)"
   ]
  },
  {
   "cell_type": "code",
   "execution_count": null,
   "metadata": {},
   "outputs": [],
   "source": [
    "linear_toy_data = make_toy_data.linear(n_samples=N_SAMPLES)\n",
    "pd.DataFrame(linear_toy_data).to_csv(PROCESSED_DATA_FOLDER_PATH.joinpath(\"toy_data\", \"noiseless\", f\"linear_{N_SAMPLES}.csv\"), index=False)\n",
    "\n",
    "print(\"R2 coefficient of determination: \" +\n",
    "      f\"{bivariate.coefficient_of_determination_R2(y_noiseless=linear_toy_data[:, 2], y_observed=linear_toy_data[:, 1])}\")\n",
    "\n",
    "plot_scatter_with_dropdown(pd.DataFrame(linear_toy_data), 0, 1, layout_width=540)"
   ]
  },
  {
   "cell_type": "code",
   "execution_count": null,
   "metadata": {},
   "outputs": [],
   "source": [
    "parabolic_toy_data = make_toy_data.parabolic(n_samples=N_SAMPLES)\n",
    "pd.DataFrame(parabolic_toy_data).to_csv(PROCESSED_DATA_FOLDER_PATH.joinpath(\"toy_data\", \"noiseless\", f\"parabolic_{N_SAMPLES}.csv\"), index=False)\n",
    "\n",
    "print(\"R2 coefficient of determination: \" +\n",
    "      f\"{bivariate.coefficient_of_determination_R2(y_noiseless=parabolic_toy_data[:, 2], y_observed=parabolic_toy_data[:, 1])}\")\n",
    "\n",
    "plot_scatter_with_dropdown(pd.DataFrame(parabolic_toy_data), 0, 1, layout_width=540)"
   ]
  },
  {
   "cell_type": "code",
   "execution_count": null,
   "metadata": {},
   "outputs": [],
   "source": [
    "cubic_toy_data = make_toy_data.cubic(n_samples=N_SAMPLES)\n",
    "pd.DataFrame(cubic_toy_data).to_csv(PROCESSED_DATA_FOLDER_PATH.joinpath(\"toy_data\", \"noiseless\", f\"cubic_{N_SAMPLES}.csv\"), index=False)\n",
    "\n",
    "print(\"R2 coefficient of determination: \" +\n",
    "      f\"{bivariate.coefficient_of_determination_R2(y_noiseless=cubic_toy_data[:, 2], y_observed=cubic_toy_data[:, 1])}\")\n",
    "\n",
    "plot_scatter_with_dropdown(pd.DataFrame(cubic_toy_data), 0, 1, layout_width=540)"
   ]
  },
  {
   "cell_type": "code",
   "execution_count": null,
   "metadata": {},
   "outputs": [],
   "source": [
    "exponential_toy_data = make_toy_data.exponential(n_samples=N_SAMPLES)\n",
    "pd.DataFrame(exponential_toy_data).to_csv(PROCESSED_DATA_FOLDER_PATH.joinpath(\"toy_data\", \"noiseless\", f\"exponential_{N_SAMPLES}.csv\"), index=False)\n",
    "\n",
    "print(\"R2 coefficient of determination: \" +\n",
    "      f\"{bivariate.coefficient_of_determination_R2(y_noiseless=exponential_toy_data[:, 2], y_observed=exponential_toy_data[:, 1])}\")\n",
    "\n",
    "plot_scatter_with_dropdown(pd.DataFrame(exponential_toy_data), 0, 1, layout_width=540)"
   ]
  },
  {
   "cell_type": "code",
   "execution_count": null,
   "metadata": {},
   "outputs": [],
   "source": [
    "linear_periodic_med_freq_toy_data = make_toy_data.linear_periodic_med_freq(n_samples=N_SAMPLES)\n",
    "pd.DataFrame(linear_periodic_med_freq_toy_data).to_csv(PROCESSED_DATA_FOLDER_PATH.joinpath(\"toy_data\", \"noiseless\", f\"linear_periodic_med_freq_{N_SAMPLES}.csv\"), index=False)\n",
    "\n",
    "print(\"R2 coefficient of determination: \" +\n",
    "      f\"{bivariate.coefficient_of_determination_R2(y_noiseless=linear_periodic_med_freq_toy_data[:, 2], y_observed=linear_periodic_med_freq_toy_data[:, 1])}\")\n",
    "\n",
    "plot_scatter_with_dropdown(pd.DataFrame(linear_periodic_med_freq_toy_data), 0, 1, layout_width=540)"
   ]
  },
  {
   "cell_type": "code",
   "execution_count": null,
   "metadata": {},
   "outputs": [],
   "source": [
    "sinus_fourier_toy_data = make_toy_data.sinus_fourier(n_samples=N_SAMPLES)\n",
    "pd.DataFrame(sinus_fourier_toy_data).to_csv(PROCESSED_DATA_FOLDER_PATH.joinpath(\"toy_data\", \"noiseless\", f\"sinus_fourier_{N_SAMPLES}.csv\"), index=False)\n",
    "\n",
    "print(\"R2 coefficient of determination: \" +\n",
    "      f\"{bivariate.coefficient_of_determination_R2(y_noiseless=sinus_fourier_toy_data[:, 2], y_observed=sinus_fourier_toy_data[:, 1])}\")\n",
    "\n",
    "plot_scatter_with_dropdown(pd.DataFrame(sinus_fourier_toy_data), 0, 1, layout_width=540)"
   ]
  },
  {
   "cell_type": "code",
   "execution_count": null,
   "metadata": {},
   "outputs": [],
   "source": [
    "sinus_non_fourier_toy_data = make_toy_data.sinus_non_fourier(n_samples=N_SAMPLES)\n",
    "pd.DataFrame(sinus_non_fourier_toy_data).to_csv(PROCESSED_DATA_FOLDER_PATH.joinpath(\"toy_data\", \"noiseless\", f\"sinus_non_fourier_{N_SAMPLES}.csv\"), index=False)\n",
    "\n",
    "print(\"R2 coefficient of determination: \" +\n",
    "      f\"{bivariate.coefficient_of_determination_R2(y_noiseless=sinus_non_fourier_toy_data[:, 2], y_observed=sinus_non_fourier_toy_data[:, 1])}\")\n",
    "\n",
    "plot_scatter_with_dropdown(pd.DataFrame(sinus_non_fourier_toy_data), 0, 1, layout_width=540)"
   ]
  },
  {
   "cell_type": "code",
   "execution_count": null,
   "metadata": {},
   "outputs": [],
   "source": [
    "sinus_varying_toy_data = make_toy_data.sinus_varying(n_samples=N_SAMPLES)\n",
    "pd.DataFrame(sinus_varying_toy_data).to_csv(PROCESSED_DATA_FOLDER_PATH.joinpath(\"toy_data\", \"noiseless\", f\"sinus_varying_{N_SAMPLES}.csv\"), index=False)\n",
    "\n",
    "print(\"R2 coefficient of determination: \" +\n",
    "      f\"{bivariate.coefficient_of_determination_R2(y_noiseless=sinus_varying_toy_data[:, 2], y_observed=sinus_varying_toy_data[:, 1])}\")\n",
    "\n",
    "plot_scatter_with_dropdown(pd.DataFrame(sinus_varying_toy_data), 0, 1, layout_width=540)"
   ]
  },
  {
   "cell_type": "code",
   "execution_count": null,
   "metadata": {},
   "outputs": [],
   "source": [
    "categorical_toy_data = make_toy_data.categorical(n_samples=N_SAMPLES)\n",
    "pd.DataFrame(categorical_toy_data).to_csv(PROCESSED_DATA_FOLDER_PATH.joinpath(\"toy_data\", \"noiseless\", f\"categorical_{N_SAMPLES}.csv\"), index=False)\n",
    "\n",
    "plot_scatter_with_dropdown(pd.DataFrame(categorical_toy_data), 0, 1, layout_width=540)"
   ]
  },
  {
   "cell_type": "markdown",
   "metadata": {},
   "source": [
    "## Noisy"
   ]
  },
  {
   "cell_type": "code",
   "execution_count": null,
   "metadata": {},
   "outputs": [],
   "source": [
    "PROCESSED_DATA_FOLDER_PATH.joinpath(\"toy_data\", \"noisy\").mkdir(exist_ok=True)\n",
    "\n",
    "N_SAMPLES = 500\n",
    "\n",
    "NOISE_AMPLITUDES = {\n",
    "    \"n1\": 0.2,\n",
    "    \"n2\": 0.6,\n",
    "    \"n3\": 1,\n",
    "}\n",
    "\n",
    "NOISE_LEVEL = \"n2\""
   ]
  },
  {
   "cell_type": "code",
   "execution_count": null,
   "metadata": {},
   "outputs": [],
   "source": [
    "linear_toy_data = make_toy_data.linear(n_samples=N_SAMPLES, noise_amplitude=NOISE_AMPLITUDES[NOISE_LEVEL])\n",
    "pd.DataFrame(linear_toy_data).to_csv(PROCESSED_DATA_FOLDER_PATH.joinpath(\"toy_data\", \"noisy\", f\"linear_{NOISE_LEVEL}_{N_SAMPLES}.csv\"), index=False)\n",
    "\n",
    "print(\"R2 coefficient of determination linear: \" +\n",
    "      f\"{bivariate.coefficient_of_determination_R2(y_noiseless=linear_toy_data[:, 2], y_observed=linear_toy_data[:, 1])}\")\n",
    "\n",
    "plot_scatter_with_dropdown(pd.DataFrame(linear_toy_data), 0, 1, layout_width=540)\n",
    "\n",
    "\n",
    "parabolic_toy_data = make_toy_data.parabolic(n_samples=N_SAMPLES, noise_amplitude=NOISE_AMPLITUDES[NOISE_LEVEL])\n",
    "pd.DataFrame(parabolic_toy_data).to_csv(PROCESSED_DATA_FOLDER_PATH.joinpath(\"toy_data\", \"noisy\", f\"parabolic_{NOISE_LEVEL}_{N_SAMPLES}.csv\"), index=False)\n",
    "\n",
    "print(\"R2 coefficient of determination parabolic: \" +\n",
    "      f\"{bivariate.coefficient_of_determination_R2(y_noiseless=parabolic_toy_data[:, 2], y_observed=parabolic_toy_data[:, 1])}\")\n",
    "\n",
    "plot_scatter_with_dropdown(pd.DataFrame(parabolic_toy_data), 0, 1, layout_width=540)\n",
    "\n",
    "\n",
    "cubic_toy_data = make_toy_data.cubic(n_samples=N_SAMPLES, noise_amplitude=NOISE_AMPLITUDES[NOISE_LEVEL] * 4)\n",
    "pd.DataFrame(cubic_toy_data).to_csv(PROCESSED_DATA_FOLDER_PATH.joinpath(\"toy_data\", \"noisy\", f\"cubic_{NOISE_LEVEL}_{N_SAMPLES}.csv\"), index=False)\n",
    "\n",
    "print(\"R2 coefficient of determination cubic: \" +\n",
    "      f\"{bivariate.coefficient_of_determination_R2(y_noiseless=cubic_toy_data[:, 2], y_observed=cubic_toy_data[:, 1])}\")\n",
    "\n",
    "plot_scatter_with_dropdown(pd.DataFrame(cubic_toy_data), 0, 1, layout_width=540)\n",
    "\n",
    "\n",
    "exponential_toy_data = make_toy_data.exponential(n_samples=N_SAMPLES, noise_amplitude=NOISE_AMPLITUDES[NOISE_LEVEL] * 5e9)\n",
    "pd.DataFrame(exponential_toy_data).to_csv(PROCESSED_DATA_FOLDER_PATH.joinpath(\"toy_data\", \"noisy\", f\"exponential_{NOISE_LEVEL}_{N_SAMPLES}.csv\"), index=False)\n",
    "\n",
    "print(\"R2 coefficient of determination exponential: \" +\n",
    "      f\"{bivariate.coefficient_of_determination_R2(y_noiseless=exponential_toy_data[:, 2], y_observed=exponential_toy_data[:, 1])}\")\n",
    "\n",
    "plot_scatter_with_dropdown(pd.DataFrame(exponential_toy_data), 0, 1, layout_width=540)\n",
    "\n",
    "\n",
    "linear_periodic_med_freq_toy_data = make_toy_data.linear_periodic_med_freq(n_samples=N_SAMPLES, noise_amplitude=NOISE_AMPLITUDES[NOISE_LEVEL] * 2.5)\n",
    "pd.DataFrame(linear_periodic_med_freq_toy_data).to_csv(PROCESSED_DATA_FOLDER_PATH.joinpath(\"toy_data\", \"noisy\", f\"linear_periodic_med_freq_{NOISE_LEVEL}_{N_SAMPLES}.csv\"), index=False)\n",
    "\n",
    "print(\"R2 coefficient of determination linear_periodic_med_freq: \" +\n",
    "      f\"{bivariate.coefficient_of_determination_R2(y_noiseless=linear_periodic_med_freq_toy_data[:, 2], y_observed=linear_periodic_med_freq_toy_data[:, 1])}\")\n",
    "\n",
    "plot_scatter_with_dropdown(pd.DataFrame(linear_periodic_med_freq_toy_data), 0, 1, layout_width=540)\n",
    "\n",
    "\n",
    "sinus_fourier_toy_data = make_toy_data.sinus_fourier(n_samples=N_SAMPLES, noise_amplitude=NOISE_AMPLITUDES[NOISE_LEVEL] * 2.5)\n",
    "pd.DataFrame(sinus_fourier_toy_data).to_csv(PROCESSED_DATA_FOLDER_PATH.joinpath(\"toy_data\", \"noisy\", f\"sinus_fourier_{NOISE_LEVEL}_{N_SAMPLES}.csv\"), index=False)\n",
    "\n",
    "print(\"R2 coefficient of determination sinus_fourier: \" +\n",
    "      f\"{bivariate.coefficient_of_determination_R2(y_noiseless=sinus_fourier_toy_data[:, 2], y_observed=sinus_fourier_toy_data[:, 1])}\")\n",
    "\n",
    "plot_scatter_with_dropdown(pd.DataFrame(sinus_fourier_toy_data), 0, 1, layout_width=540)\n",
    "\n",
    "\n",
    "sinus_non_fourier_toy_data = make_toy_data.sinus_non_fourier(n_samples=N_SAMPLES, noise_amplitude=NOISE_AMPLITUDES[NOISE_LEVEL] * 2.5)\n",
    "pd.DataFrame(sinus_non_fourier_toy_data).to_csv(PROCESSED_DATA_FOLDER_PATH.joinpath(\"toy_data\", \"noisy\", f\"sinus_non_fourier_{NOISE_LEVEL}_{N_SAMPLES}.csv\"), index=False)\n",
    "\n",
    "print(\"R2 coefficient of determination sinus_non_fourier: \" +\n",
    "      f\"{bivariate.coefficient_of_determination_R2(y_noiseless=sinus_non_fourier_toy_data[:, 2], y_observed=sinus_non_fourier_toy_data[:, 1])}\")\n",
    "\n",
    "plot_scatter_with_dropdown(pd.DataFrame(sinus_non_fourier_toy_data), 0, 1, layout_width=540)\n",
    "\n",
    "\n",
    "sinus_varying_toy_data = make_toy_data.sinus_varying(n_samples=N_SAMPLES, noise_amplitude=NOISE_AMPLITUDES[NOISE_LEVEL] * 2.5)\n",
    "pd.DataFrame(sinus_varying_toy_data).to_csv(PROCESSED_DATA_FOLDER_PATH.joinpath(\"toy_data\", \"noisy\", f\"sinus_varying_{NOISE_LEVEL}_{N_SAMPLES}.csv\"), index=False)\n",
    "\n",
    "print(\"R2 coefficient of determination sinus_varying: \" +\n",
    "      f\"{bivariate.coefficient_of_determination_R2(y_noiseless=sinus_varying_toy_data[:, 2], y_observed=sinus_varying_toy_data[:, 1])}\")\n",
    "\n",
    "plot_scatter_with_dropdown(pd.DataFrame(sinus_varying_toy_data), 0, 1, layout_width=540)"
   ]
  },
  {
   "cell_type": "code",
   "execution_count": null,
   "metadata": {},
   "outputs": [],
   "source": []
  },
  {
   "cell_type": "markdown",
   "metadata": {},
   "source": [
    "## Make aggregated subplots"
   ]
  },
  {
   "cell_type": "code",
   "execution_count": null,
   "metadata": {},
   "outputs": [],
   "source": [
    "import matplotlib.pyplot as plt\n",
    "\n",
    "def display_scatterplots(path_rglob):\n",
    "\n",
    "    csv_files = sorted(list(path_rglob))\n",
    "    dataframes = [pd.read_csv(f) for f in csv_files]\n",
    "\n",
    "    # Create a subplot for each DataFrame\n",
    "    num_files = len(dataframes)\n",
    "    fig, axes = plt.subplots(nrows=num_files, ncols=1, figsize=(4, 4*num_files))\n",
    "\n",
    "    if num_files == 1:\n",
    "        axes = [axes]  # Make sure axes is iterable even with one subplot\n",
    "\n",
    "    # Generate scatter plots\n",
    "    for i, df in enumerate(dataframes):\n",
    "        ax = axes[i]\n",
    "        # Assuming the DataFrame has 'x' and 'y' columns for the scatter plot\n",
    "        ax.scatter(df['0'], df['1'])  #, label=f'File {csv_files[i]}')\n",
    "        ax.set_title(f'Scatter Plot for CSV File {csv_files[i]}')\n",
    "        ax.set_xlabel('x')\n",
    "        ax.set_ylabel('y')\n",
    "        # ax.legend()\n",
    "\n",
    "    # Adjust layout and display the plots\n",
    "    plt.tight_layout()\n",
    "    plt.show()\n",
    "\n",
    "    return fig"
   ]
  },
  {
   "cell_type": "code",
   "execution_count": null,
   "metadata": {},
   "outputs": [],
   "source": [
    "figure = display_scatterplots(PROCESSED_DATA_FOLDER_PATH.joinpath(\"toy_data\", \"noiseless\").rglob(\"*.csv\"))\n",
    "\n",
    "figure.savefig(\"noiseless_scatterplots.png\")"
   ]
  },
  {
   "cell_type": "code",
   "execution_count": null,
   "metadata": {},
   "outputs": [],
   "source": [
    "figure = display_scatterplots(PROCESSED_DATA_FOLDER_PATH.joinpath(\"toy_data\", \"noisy\").rglob(\"*n1*.csv\"))\n",
    "\n",
    "figure.savefig(\"noisy_n1_scatterplots.png\")"
   ]
  },
  {
   "cell_type": "code",
   "execution_count": null,
   "metadata": {},
   "outputs": [],
   "source": [
    "figure = display_scatterplots(PROCESSED_DATA_FOLDER_PATH.joinpath(\"toy_data\", \"noisy\").rglob(\"*n2*.csv\"))\n",
    "\n",
    "figure.savefig(\"noisy_n2_scatterplots.png\")"
   ]
  },
  {
   "cell_type": "code",
   "execution_count": null,
   "metadata": {},
   "outputs": [],
   "source": [
    "figure = display_scatterplots(PROCESSED_DATA_FOLDER_PATH.joinpath(\"toy_data\", \"noisy\").rglob(\"*n3*.csv\"))\n",
    "\n",
    "figure.savefig(\"noisy_n3_scatterplots.png\")"
   ]
  },
  {
   "cell_type": "code",
   "execution_count": null,
   "metadata": {},
   "outputs": [],
   "source": []
  }
 ],
 "metadata": {
  "kernelspec": {
   "display_name": "master-thesis-U6WNLqtN-py3.11",
   "language": "python",
   "name": "python3"
  },
  "language_info": {
   "codemirror_mode": {
    "name": "ipython",
    "version": 3
   },
   "file_extension": ".py",
   "mimetype": "text/x-python",
   "name": "python",
   "nbconvert_exporter": "python",
   "pygments_lexer": "ipython3",
   "version": "3.9.13"
  }
 },
 "nbformat": 4,
 "nbformat_minor": 2
}
