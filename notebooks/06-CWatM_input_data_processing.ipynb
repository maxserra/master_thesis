{
 "cells": [
  {
   "cell_type": "markdown",
   "metadata": {},
   "source": [
    "# CWatM input data"
   ]
  },
  {
   "cell_type": "code",
   "execution_count": null,
   "metadata": {},
   "outputs": [],
   "source": []
  },
  {
   "cell_type": "code",
   "execution_count": 1,
   "metadata": {},
   "outputs": [],
   "source": [
    "from pathlib import Path\n",
    "from functools import reduce\n",
    "import pandas as pd\n",
    "import xarray as xr\n",
    "from datetime import datetime as dt\n",
    "\n",
    "from isimip_client.client import ISIMIPClient"
   ]
  },
  {
   "cell_type": "code",
   "execution_count": 2,
   "metadata": {},
   "outputs": [],
   "source": [
    "RAW_CWATM_INPUT_FOLDER = Path(\"../data/raw/CWatM_input\")"
   ]
  },
  {
   "cell_type": "markdown",
   "metadata": {},
   "source": [
    "## Define function"
   ]
  },
  {
   "cell_type": "code",
   "execution_count": 3,
   "metadata": {},
   "outputs": [],
   "source": [
    "def download_process_merge_ISIMIP_input(climate_variable,\n",
    "                                        flux_conversion_factor=None,\n",
    "                                        averaging_time=None):\n",
    "\n",
    "    client = ISIMIPClient()\n",
    "\n",
    "    # Search the ISIMIP repository using specifiers.\n",
    "    # Max's TIP: in data.isimip.org, use the \"Facets\" \"Sidebar view\" to ge the specifiers key and values\n",
    "    response = client.files(simulation_round=\"ISIMIP3a\",\n",
    "                            product=\"InputData\",\n",
    "                            climate_scenario=\"obsclim\",\n",
    "                            climate_forcing=\"gswp3-w5e5\",\n",
    "                            climate_variable=climate_variable\n",
    "                            )\n",
    "\n",
    "    # Download files\n",
    "    for result in response[\"results\"]:\n",
    "\n",
    "        file_name = result[\"name\"]\n",
    "        if \"1971_1980\" in file_name or \\\n",
    "            \"1981_1990\" in file_name or \\\n",
    "            \"1991_2000\" in file_name or \\\n",
    "            \"2001_2010\" in file_name:\n",
    "\n",
    "            print(f\"Downloading file {file_name}\")\n",
    "            # Download file\n",
    "            client.download(result[\"file_url\"], path=RAW_CWATM_INPUT_FOLDER.joinpath(climate_variable))\n",
    "        else:\n",
    "            print(f\"Skipping {file_name} due to none matching years\")\n",
    "\n",
    "    ## Process and merge files\n",
    "    files = RAW_CWATM_INPUT_FOLDER.joinpath(climate_variable).glob(\"gswp3-w5e5*.nc\")\n",
    "\n",
    "    data_sum_list = []\n",
    "    time_slice = slice(dt(1975, 1, 1), dt(2004, 12, 31))\n",
    "\n",
    "    for file in files:\n",
    "\n",
    "        print(f\"Processing file {file.name}\")\n",
    "\n",
    "        data = xr.open_dataset(file)\n",
    "        data_sliced = data.sel(time=time_slice)\n",
    "        if flux_conversion_factor is not None:\n",
    "            data_sliced = data_sliced * flux_conversion_factor\n",
    "        data_sum = data_sliced.sum(\"time\")\n",
    "\n",
    "        data_sum_list.append(data_sum)\n",
    "\n",
    "    print(\"Merging files\")\n",
    "    data_sum = reduce(lambda x, y: x + y, data_sum_list)\n",
    "\n",
    "    if averaging_time == \"day\":\n",
    "        time_slice_days = len(pd.date_range(start=dt(1975, 1, 1), end=dt(2004, 12, 31), freq=\"d\"))\n",
    "        data_mean = data_sum / time_slice_days\n",
    "\n",
    "        print(\"Storing 'mean_1975_2004.nc' file\")\n",
    "        data_mean.to_netcdf(RAW_CWATM_INPUT_FOLDER.joinpath(climate_variable, \"mean_1975_2004.nc\"))\n",
    "    elif averaging_time == \"year\":\n",
    "        time_slice_years = len(pd.date_range(start=dt(1975, 1, 1), end=dt(2004, 12, 31), freq=\"YE\"))\n",
    "        data_mean = data_sum / time_slice_years\n",
    "\n",
    "        print(\"Storing 'mean_1975_2004.nc' file\")\n",
    "        data_mean.to_netcdf(RAW_CWATM_INPUT_FOLDER.joinpath(climate_variable, \"mean_1975_2004.nc\"))\n",
    "    else:\n",
    "        print(\"Storing 'sum_1975_2004.nc' file\")\n",
    "        data_sum.to_netcdf(RAW_CWATM_INPUT_FOLDER.joinpath(climate_variable, \"sum_1975_2004.nc\"))"
   ]
  },
  {
   "cell_type": "markdown",
   "metadata": {},
   "source": [
    "## Precipitation"
   ]
  },
  {
   "cell_type": "code",
   "execution_count": null,
   "metadata": {},
   "outputs": [],
   "source": [
    "CLIMATE_VARIABLE = \"pr\"\n",
    "\n",
    "download_process_merge_ISIMIP_input(CLIMATE_VARIABLE,\n",
    "                                    flux_conversion_factor=86400, # Convert from kg/m²/s to mm/day\n",
    "                                    averaging_time=\"year\"\n",
    "                                    )"
   ]
  },
  {
   "cell_type": "markdown",
   "metadata": {},
   "source": [
    "## Temperature"
   ]
  },
  {
   "cell_type": "code",
   "execution_count": null,
   "metadata": {},
   "outputs": [],
   "source": [
    "CLIMATE_VARIABLE = \"tas\"\n",
    "\n",
    "download_process_merge_ISIMIP_input(CLIMATE_VARIABLE,\n",
    "                                    averaging_time=\"day\"\n",
    "                                    )"
   ]
  },
  {
   "cell_type": "markdown",
   "metadata": {},
   "source": [
    "## Temperature max"
   ]
  },
  {
   "cell_type": "code",
   "execution_count": null,
   "metadata": {},
   "outputs": [],
   "source": [
    "CLIMATE_VARIABLE = \"tasmax\"\n",
    "\n",
    "download_process_merge_ISIMIP_input(CLIMATE_VARIABLE,\n",
    "                                    averaging_time=\"day\"\n",
    "                                    )"
   ]
  },
  {
   "cell_type": "markdown",
   "metadata": {},
   "source": [
    "## Temperature min"
   ]
  },
  {
   "cell_type": "code",
   "execution_count": null,
   "metadata": {},
   "outputs": [],
   "source": [
    "CLIMATE_VARIABLE = \"tasmin\"\n",
    "\n",
    "download_process_merge_ISIMIP_input(CLIMATE_VARIABLE,\n",
    "                                    averaging_time=\"day\"\n",
    "                                    )"
   ]
  },
  {
   "cell_type": "markdown",
   "metadata": {},
   "source": [
    "## Surface air pressure"
   ]
  },
  {
   "cell_type": "code",
   "execution_count": null,
   "metadata": {},
   "outputs": [],
   "source": [
    "CLIMATE_VARIABLE = \"ps\"\n",
    "\n",
    "download_process_merge_ISIMIP_input(CLIMATE_VARIABLE,\n",
    "                                    averaging_time=\"day\"\n",
    "                                    )"
   ]
  },
  {
   "cell_type": "markdown",
   "metadata": {},
   "source": [
    "## Longwave radiation"
   ]
  },
  {
   "cell_type": "code",
   "execution_count": null,
   "metadata": {},
   "outputs": [],
   "source": [
    "CLIMATE_VARIABLE = \"rlds\"\n",
    "\n",
    "download_process_merge_ISIMIP_input(CLIMATE_VARIABLE,\n",
    "                                    flux_conversion_factor=0.0864/2.45, # Convert from W/m² to mm/day\n",
    "                                    averaging_time=\"year\"\n",
    "                                    )"
   ]
  },
  {
   "cell_type": "markdown",
   "metadata": {},
   "source": [
    "## Shortwave radiation"
   ]
  },
  {
   "cell_type": "code",
   "execution_count": null,
   "metadata": {},
   "outputs": [],
   "source": [
    "CLIMATE_VARIABLE = \"rsds\"\n",
    "\n",
    "download_process_merge_ISIMIP_input(CLIMATE_VARIABLE,\n",
    "                                    flux_conversion_factor=0.0864/2.45, # Convert from W/m² to mm/day\n",
    "                                    averaging_time=\"year\"\n",
    "                                    )"
   ]
  },
  {
   "cell_type": "markdown",
   "metadata": {},
   "source": [
    "## Wind"
   ]
  },
  {
   "cell_type": "code",
   "execution_count": null,
   "metadata": {},
   "outputs": [],
   "source": [
    "CLIMATE_VARIABLE = \"sfcwind\"\n",
    "\n",
    "download_process_merge_ISIMIP_input(CLIMATE_VARIABLE,\n",
    "                                    averaging_time=\"day\")"
   ]
  },
  {
   "cell_type": "markdown",
   "metadata": {},
   "source": [
    "## Relative humidity"
   ]
  },
  {
   "cell_type": "code",
   "execution_count": null,
   "metadata": {},
   "outputs": [],
   "source": [
    "CLIMATE_VARIABLE = \"hurs\"\n",
    "\n",
    "download_process_merge_ISIMIP_input(CLIMATE_VARIABLE,\n",
    "                                    averaging_time=\"day\")"
   ]
  },
  {
   "cell_type": "markdown",
   "metadata": {},
   "source": [
    "## Specific humidity"
   ]
  },
  {
   "cell_type": "code",
   "execution_count": null,
   "metadata": {},
   "outputs": [],
   "source": [
    "CLIMATE_VARIABLE = \"huss\"\n",
    "\n",
    "download_process_merge_ISIMIP_input(CLIMATE_VARIABLE,\n",
    "                                    averaging_time=\"day\")"
   ]
  },
  {
   "cell_type": "code",
   "execution_count": null,
   "metadata": {},
   "outputs": [],
   "source": []
  },
  {
   "cell_type": "markdown",
   "metadata": {},
   "source": [
    "# Merge forcings"
   ]
  },
  {
   "cell_type": "code",
   "execution_count": 17,
   "metadata": {},
   "outputs": [],
   "source": [
    "pr_mean = xr.open_dataset(RAW_CWATM_INPUT_FOLDER.joinpath(\"pr\", \"mean_1975_2004.nc\"))\n",
    "tas_mean = xr.open_dataset(RAW_CWATM_INPUT_FOLDER.joinpath(\"tas\", \"mean_1975_2004.nc\"))\n",
    "tasmax_mean = xr.open_dataset(RAW_CWATM_INPUT_FOLDER.joinpath(\"tasmax\", \"mean_1975_2004.nc\"))\n",
    "tasmin_mean = xr.open_dataset(RAW_CWATM_INPUT_FOLDER.joinpath(\"tasmin\", \"mean_1975_2004.nc\"))\n",
    "ps_mean = xr.open_dataset(RAW_CWATM_INPUT_FOLDER.joinpath(\"ps\", \"mean_1975_2004.nc\"))\n",
    "rlds_mean = xr.open_dataset(RAW_CWATM_INPUT_FOLDER.joinpath(\"rlds\", \"mean_1975_2004.nc\"))\n",
    "rsds_mean = xr.open_dataset(RAW_CWATM_INPUT_FOLDER.joinpath(\"rsds\", \"mean_1975_2004.nc\"))\n",
    "sfcwind_mean = xr.open_dataset(RAW_CWATM_INPUT_FOLDER.joinpath(\"sfcwind\", \"mean_1975_2004.nc\"))\n",
    "hurs_mean = xr.open_dataset(RAW_CWATM_INPUT_FOLDER.joinpath(\"hurs\", \"mean_1975_2004.nc\"))\n",
    "huss_mean = xr.open_dataset(RAW_CWATM_INPUT_FOLDER.joinpath(\"huss\", \"mean_1975_2004.nc\"))\n",
    "\n",
    "data_mean = xr.merge([pr_mean,\n",
    "                      tas_mean,\n",
    "                      tasmax_mean,\n",
    "                      tasmin_mean,\n",
    "                      ps_mean,\n",
    "                      rlds_mean,\n",
    "                      rsds_mean,\n",
    "                      sfcwind_mean,\n",
    "                      hurs_mean,\n",
    "                      huss_mean,\n",
    "                      ])\n",
    "\n",
    "data_mean.to_netcdf(Path(\"../data/processed/CWatM_data/forcings.nc\"))"
   ]
  },
  {
   "cell_type": "code",
   "execution_count": null,
   "metadata": {},
   "outputs": [],
   "source": []
  },
  {
   "cell_type": "code",
   "execution_count": null,
   "metadata": {},
   "outputs": [],
   "source": []
  }
 ],
 "metadata": {
  "kernelspec": {
   "display_name": "master-thesis-U6WNLqtN-py3.9",
   "language": "python",
   "name": "python3"
  },
  "language_info": {
   "codemirror_mode": {
    "name": "ipython",
    "version": 3
   },
   "file_extension": ".py",
   "mimetype": "text/x-python",
   "name": "python",
   "nbconvert_exporter": "python",
   "pygments_lexer": "ipython3",
   "version": "3.9.13"
  }
 },
 "nbformat": 4,
 "nbformat_minor": 2
}
