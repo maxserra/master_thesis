{
 "cells": [
  {
   "cell_type": "code",
   "execution_count": null,
   "metadata": {},
   "outputs": [],
   "source": []
  },
  {
   "cell_type": "code",
   "execution_count": null,
   "metadata": {},
   "outputs": [],
   "source": [
    "%load_ext autoreload\n",
    "%autoreload 2\n",
    "\n",
    "import sys\n",
    "sys.path.append(\"..\")\n",
    "\n",
    "from pathlib import Path\n",
    "\n",
    "from tqdm import tqdm\n",
    "import numpy as np\n",
    "import pandas as pd\n",
    "import dataframe_image as dfi\n",
    "import matplotlib.pyplot as plt\n",
    "\n",
    "import src.visualization.visualize as visualize"
   ]
  },
  {
   "cell_type": "code",
   "execution_count": null,
   "metadata": {},
   "outputs": [],
   "source": [
    "PROCESSED_DATA_FOLDER_PATH = Path(\"../data/processed\")\n"
   ]
  },
  {
   "cell_type": "markdown",
   "metadata": {},
   "source": [
    "## Load data"
   ]
  },
  {
   "cell_type": "code",
   "execution_count": null,
   "metadata": {},
   "outputs": [],
   "source": [
    "all_land_df = pd.read_parquet(PROCESSED_DATA_FOLDER_PATH.joinpath(\"CWatM_data\", \"all_land.parquet\"))\n",
    "forcings_land_df = pd.read_parquet(PROCESSED_DATA_FOLDER_PATH.joinpath(\"CWatM_data\", \"forcings_land.parquet\"))\n",
    "outputs_land_df = pd.read_parquet(PROCESSED_DATA_FOLDER_PATH.joinpath(\"CWatM_data\", \"outputs_land.parquet\"))\n",
    "\n",
    "data_df = pd.concat((all_land_df, forcings_land_df, outputs_land_df), axis=1)\n",
    "data_df"
   ]
  },
  {
   "cell_type": "code",
   "execution_count": null,
   "metadata": {},
   "outputs": [],
   "source": []
  },
  {
   "cell_type": "markdown",
   "metadata": {},
   "source": [
    "## Explore \"chanlen - potevap\" relation"
   ]
  },
  {
   "cell_type": "markdown",
   "metadata": {},
   "source": [
    "<div>\n",
    "<img src=\"../reports/figures/CWatM_data/scatterplots/chanleng_potevap.png\" width=\"1000\"/>\n",
    "</div>"
   ]
  },
  {
   "cell_type": "code",
   "execution_count": null,
   "metadata": {},
   "outputs": [],
   "source": [
    "region_1 = data_df[(data_df[\"chanleng\"] < 30000) &\n",
    "                   (data_df[\"potevap\"] > 700)]\n",
    "region_2 = data_df[(data_df[\"chanleng\"] >= 30000) & (data_df[\"chanleng\"] < 40000) &\n",
    "                   (data_df[\"potevap\"] > 700)]\n",
    "region_3 = data_df[(data_df[\"chanleng\"] >= 40000) & (data_df[\"chanleng\"] < 58000) &\n",
    "                   (data_df[\"potevap\"] > 700)]\n",
    "region_4 = data_df[(data_df[\"chanleng\"] >= 58000)]\n"
   ]
  },
  {
   "cell_type": "code",
   "execution_count": null,
   "metadata": {},
   "outputs": [],
   "source": []
  },
  {
   "cell_type": "code",
   "execution_count": null,
   "metadata": {},
   "outputs": [],
   "source": []
  },
  {
   "cell_type": "code",
   "execution_count": null,
   "metadata": {},
   "outputs": [],
   "source": [
    "region_1"
   ]
  },
  {
   "cell_type": "code",
   "execution_count": null,
   "metadata": {},
   "outputs": [],
   "source": [
    "import cartopy\n",
    "import cartopy.crs as ccrs\n",
    "import matplotlib.pyplot as plt\n",
    "from matplotlib.markers import MarkerStyle\n",
    "\n",
    "fig = plt.figure(figsize=(12, 6))\n",
    "ax = plt.axes(projection=ccrs.PlateCarree())\n",
    "\n",
    "# Add map features\n",
    "ax.coastlines()\n",
    "ax.add_feature(cartopy.feature.BORDERS, linestyle=':')\n",
    "\n",
    "marker_style = MarkerStyle(marker=\".\",\n",
    "                           fillstyle=\"full\")\n",
    "\n",
    "alpha = 0.5\n",
    "size = 30\n",
    "\n",
    "# Plot data points\n",
    "ax.scatter(region_1.reset_index()['lon'], region_1.reset_index()['lat'],\n",
    "           color='red', label='Region 1', \n",
    "           alpha=alpha, transform=ccrs.PlateCarree(),\n",
    "           marker=marker_style, s=size, edgecolor=\"none\",\n",
    "           )\n",
    "ax.scatter(region_2.reset_index()['lon'], region_2.reset_index()['lat'],\n",
    "           color='blue', label='Region 2', \n",
    "           alpha=alpha, transform=ccrs.PlateCarree(),\n",
    "           marker=marker_style, s=size, edgecolor=\"none\",\n",
    "           )\n",
    "ax.scatter(region_3.reset_index()['lon'], region_3.reset_index()['lat'],\n",
    "           color='green', label='Region 3', \n",
    "           alpha=alpha, transform=ccrs.PlateCarree(),\n",
    "           marker=marker_style, s=size, edgecolor=\"none\",\n",
    "           )\n",
    "ax.scatter(region_4.reset_index()['lon'], region_4.reset_index()['lat'],\n",
    "           color='purple', label='Region 4', \n",
    "           alpha=alpha, transform=ccrs.PlateCarree(),\n",
    "           marker=marker_style, s=size, edgecolor=\"none\",\n",
    "           )\n",
    "\n",
    "plt.show()\n"
   ]
  },
  {
   "cell_type": "code",
   "execution_count": null,
   "metadata": {},
   "outputs": [],
   "source": [
    "\n",
    "# Create a figure with 2x2 subplots, each with the PlateCarree projection\n",
    "fig, axes = plt.subplots(nrows=2, ncols=2, figsize=(16, 10),\n",
    "                         subplot_kw={'projection': ccrs.PlateCarree()})\n",
    "\n",
    "# Flatten the axes array for easy iteration\n",
    "axes = axes.flatten()\n",
    "\n",
    "# List of regions, colors, and labels\n",
    "regions = [region_1, region_2, region_3, region_4]\n",
    "colors = ['red', 'blue', 'green', 'purple']\n",
    "labels = ['Region 1', 'Region 2', 'Region 3', 'Region 4']\n",
    "\n",
    "# Marker style\n",
    "marker_style = MarkerStyle(marker=\"s\", fillstyle=\"full\")\n",
    "alpha = 0.5\n",
    "size = 5\n",
    "\n",
    "# Plot each region in its own subplot\n",
    "for ax, region, color, label in zip(axes, regions, colors, labels):\n",
    "    # Add map features\n",
    "    ax.coastlines()\n",
    "    ax.add_feature(cartopy.feature.BORDERS, linestyle=':')\n",
    "    \n",
    "    # Plot data points\n",
    "    ax.scatter(region.reset_index()['lon'], region.reset_index()['lat'],\n",
    "               color=color, label=label, \n",
    "               alpha=alpha, transform=ccrs.PlateCarree(),\n",
    "               marker=marker_style, s=size, edgecolor=\"none\")\n",
    "    \n",
    "    # Set title and legend\n",
    "    ax.set_title(label)\n",
    "    ax.legend(loc='lower left')\n",
    "\n",
    "# Adjust layout to prevent overlap\n",
    "plt.tight_layout()\n",
    "\n",
    "# Display the plot\n",
    "plt.show()"
   ]
  },
  {
   "cell_type": "code",
   "execution_count": null,
   "metadata": {},
   "outputs": [],
   "source": []
  }
 ],
 "metadata": {
  "kernelspec": {
   "display_name": "master-thesis-U6WNLqtN-py3.9",
   "language": "python",
   "name": "python3"
  },
  "language_info": {
   "codemirror_mode": {
    "name": "ipython",
    "version": 3
   },
   "file_extension": ".py",
   "mimetype": "text/x-python",
   "name": "python",
   "nbconvert_exporter": "python",
   "pygments_lexer": "ipython3",
   "version": "3.9.13"
  }
 },
 "nbformat": 4,
 "nbformat_minor": 2
}
